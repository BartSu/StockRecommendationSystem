{
 "cells": [
  {
   "cell_type": "code",
   "execution_count": 1,
   "metadata": {
    "collapsed": false
   },
   "outputs": [],
   "source": [
    "# NYSE：New York Stock Exchange 纽约证券交易所\n",
    "# 二十支股票：\n",
    "# GOOG谷歌,TSLA特斯拉,AAPL苹果,AMZN亚马逊,MSFT微软,NVDA英伟达,INTC英特尔,QCOM高通,WDC西部数据,AMD超威,ORCL甲骨文,SAP思爱普,CSCO思科,BABA阿里巴巴,NOK诺基亚,T美国电话电报公司,VZ微讯,FB脸书,TWTR推特,SNAP色拉布"
   ]
  },
  {
   "cell_type": "code",
   "execution_count": 2,
   "metadata": {
    "collapsed": true
   },
   "outputs": [],
   "source": [
    "import numpy as np                               # 向量和矩阵\n",
    "import pandas as pd                              # 表格和数据处理\n",
    "import matplotlib.pyplot as plt                  # 绘图\n",
    "import seaborn as sns                            # 更多绘图功能\n",
    "\n",
    "from dateutil.relativedelta import relativedelta # 处理不同格式的时间日期\n",
    "from scipy.optimize import minimize              # 最小化函数\n",
    "\n",
    "import statsmodels.formula.api as smf            # statistics and econometrics\n",
    "import statsmodels.tsa.api as smt\n",
    "import statsmodels.api as sm\n",
    "import scipy.stats as scs\n",
    "\n",
    "from itertools import product                    # 一些有用的函数\n",
    "from tqdm import tqdm_notebook\n",
    "\n",
    "from datetime import date                        # 日期函数\n",
    "\n",
    "import warnings                                  # 勿扰模式\n",
    "warnings.filterwarnings('ignore')\n",
    "\n",
    "%matplotlib inline"
   ]
  },
  {
   "cell_type": "code",
   "execution_count": 3,
   "metadata": {
    "collapsed": false
   },
   "outputs": [],
   "source": [
    "from pandas_datareader import data, wb\n",
    "# 所研究的二十支股票的NYSE代码\n",
    "tickers = ['GOOG','TSLA','AAPL','AMZN','MSFT','NVDA','INTC','QCOM','WDC','AMD','ORCL','SAP','CSCO','BABA',\n",
    "           'NOK','T','VZ','FB','TWTR','SNAP']\n",
    "\n",
    "# We would like five-years available data from 28/10/2013 until 10/28/2018.\n",
    "start_date = '2018-5-28'\n",
    "end_date = '2018-10-28'\n",
    "# User pandas_reader.data.DataReader to load the desired data. As simple as that.\n",
    "# panel_data = data.DataReader('AAPL', 'iex', start_date, end_date)\n",
    "panel_data = data.DataReader(tickers, \"iex\", start_date, end_date)\n",
    "# print(panel_data['close']) #半年的收盘值\n",
    "panel_close_data = panel_data['close']\n",
    "# print(panel_close_data)"
   ]
  },
  {
   "cell_type": "code",
   "execution_count": 17,
   "metadata": {
    "collapsed": false
   },
   "outputs": [
    {
     "name": "stdout",
     "output_type": "stream",
     "text": [
      "219.88078857022114\n",
      "[221.55743126 222.74577762 220.05061329 217.78890743 217.26121324]\n"
     ]
    }
   ],
   "source": [
    "#时序数据上的线性模型\n",
    "data = pd.DataFrame(panel_close_data['AAPL'].copy().astype(float))\n",
    "data.columns = [\"y\"]\n",
    "\n",
    "df = pd.DataFrame({'y':[0,0,0,0,0]},\n",
    "                   index = [str(date(2018, 10, 29)),str(date(2018, 10, 30)),str(date(2018, 10, 31)),\n",
    "                            str(date(2018, 11, 1)),str(date(2018, 10, 2))])\n",
    "data = data.append(df)\n",
    "\n",
    "for i in range(6, 25):\n",
    "    data[\"lag_{}\".format(i)] = data.y.shift(i)\n",
    "\n",
    "from sklearn.linear_model import LinearRegression\n",
    "from sklearn.model_selection import cross_val_score\n",
    "\n",
    "y = data.dropna().y # 删除n/a的数据\n",
    "X = data.dropna().drop(['y'], axis=1)\n",
    "\n",
    "# 除去需要预测的5天\n",
    "train_index = int(len(X)) - 5\n",
    "X_train = X.iloc[:train_index]\n",
    "y_train = y.iloc[:train_index]\n",
    "\n",
    "# 机器学习\n",
    "lr = LinearRegression()\n",
    "lr.fit(X_train, y_train)\n",
    "prediction = lr.predict(X.tail(5))\n",
    "precentage = prediction.mean()\n",
    "print(prediction.mean())\n",
    "print(prediction)\n",
    "# plt.figure(figsize=(15, 7))\n",
    "# plt.plot(prediction, \"g\", label=\"prediction\", linewidth=2.0)\n"
   ]
  },
  {
   "cell_type": "code",
   "execution_count": null,
   "metadata": {
    "collapsed": true
   },
   "outputs": [],
   "source": []
  },
  {
   "cell_type": "code",
   "execution_count": null,
   "metadata": {
    "collapsed": true
   },
   "outputs": [],
   "source": []
  }
 ],
 "metadata": {
  "kernelspec": {
   "display_name": "Python 3",
   "language": "python",
   "name": "python3"
  },
  "language_info": {
   "codemirror_mode": {
    "name": "ipython",
    "version": 3
   },
   "file_extension": ".py",
   "mimetype": "text/x-python",
   "name": "python",
   "nbconvert_exporter": "python",
   "pygments_lexer": "ipython3",
   "version": "3.6.0"
  }
 },
 "nbformat": 4,
 "nbformat_minor": 2
}
