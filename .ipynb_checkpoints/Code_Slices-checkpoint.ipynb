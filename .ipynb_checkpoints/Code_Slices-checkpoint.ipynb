{
 "cells": [
  {
   "cell_type": "code",
   "execution_count": null,
   "metadata": {
    "collapsed": true
   },
   "outputs": [],
   "source": [
    "from datetime import date\n",
    "today = str(date.today())\n",
    "print(str(date(2018, 10, 29))) "
   ]
  },
  {
   "cell_type": "code",
   "execution_count": null,
   "metadata": {
    "collapsed": true
   },
   "outputs": [],
   "source": [
    "print(dir(data.index))"
   ]
  },
  {
   "cell_type": "code",
   "execution_count": null,
   "metadata": {
    "collapsed": true
   },
   "outputs": [],
   "source": [
    "#R2，决定系数（在经济学中，可以理解为模型能够解释的方差比例），(-inf, 1] sklearn.metrics.r2_score\n",
    "#平均绝对误差（Mean Absolute Error），这是一个易于解释的测度，因为它的计量单位和初始序列相同，[0, +inf) sklearn.metrics.mean_absolute_error\n",
    "#中位绝对误差（Median Absolute Error），同样是一个易于解释的测度，对离群值的鲁棒性很好，[0, +inf) sklearn.metrics.median_absolute_error\n",
    "#均方误差（Mean Squared Error），最常用的测度，给较大的错误更高的惩罚，[0, +inf) sklearn.metrics.mean_squared_error\n",
    "#均方对数误差（Mean Squared Logarithmic Error），和MSE差不多，只不过先对序列取对数，因此能够照顾到较小的错误，通常用于具有指数趋势的数据，[0, +inf) sklearn.metrics.mean_squared_log_error\n",
    "#平均绝对百分误差（Mean Absolute Percentage Error），类似MAE不过基于百分比——当你需要向管理层解释模型的质量时很方便——[0, +inf)，sklearn中没有实现。\n",
    "\n",
    "# 引入上面提到的所有测度\n",
    "from sklearn.metrics import r2_score, median_absolute_error, mean_absolute_error\n",
    "from sklearn.metrics import median_absolute_error, mean_squared_error, mean_squared_log_error\n",
    "from sklearn.model_selection import TimeSeriesSplit\n",
    "\n",
    "# 自行实现sklearn没有提供的平均绝对百分误差很容易\n",
    "def mean_absolute_percentage_error(y_true, y_pred): \n",
    "    return np.mean(np.abs((y_true - y_pred) / y_true)) * 100"
   ]
  },
  {
   "cell_type": "code",
   "execution_count": null,
   "metadata": {
    "collapsed": true
   },
   "outputs": [],
   "source": [
    "#时序数据上的线性模型\n",
    "# stock = pd.read_csv('/Users/BartSu/Desktop/AAPL-Close.csv', index_col=['Date'], parse_dates=['Date'])\n",
    "data = pd.DataFrame(panel_close_data['AAPL'].copy().astype(float))\n",
    "data.columns = [\"y\"]\n",
    "\n",
    "df = pd.DataFrame({'y':[0,0,0,0,0]},\n",
    "                   index = [str(date(2018, 10, 29)),str(date(2018, 10, 30)),str(date(2018, 10, 31)),\n",
    "                            str(date(2018, 11, 1)),str(date(2018, 10, 2))])\n",
    "\n",
    "data = data.append(df)\n",
    "# print(dir(data.index))\n",
    "# print(data)"
   ]
  },
  {
   "cell_type": "code",
   "execution_count": null,
   "metadata": {
    "collapsed": true
   },
   "outputs": [],
   "source": [
    "# https://pypi.org/project/yahoo-finance/\n"
   ]
  }
 ],
 "metadata": {
  "kernelspec": {
   "display_name": "Python 3",
   "language": "python",
   "name": "python3"
  },
  "language_info": {
   "codemirror_mode": {
    "name": "ipython",
    "version": 3
   },
   "file_extension": ".py",
   "mimetype": "text/x-python",
   "name": "python",
   "nbconvert_exporter": "python",
   "pygments_lexer": "ipython3",
   "version": "3.6.0"
  }
 },
 "nbformat": 4,
 "nbformat_minor": 2
}
