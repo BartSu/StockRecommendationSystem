{
 "cells": [
  {
   "cell_type": "code",
   "execution_count": 1,
   "metadata": {
    "collapsed": true
   },
   "outputs": [],
   "source": [
    "stock = 'QCOM'\n",
    "days_back = 100"
   ]
  },
  {
   "cell_type": "code",
   "execution_count": 2,
   "metadata": {
    "collapsed": true
   },
   "outputs": [],
   "source": [
    "import pandas as pd                              # 表格和数据处理\n",
    "import matplotlib.pyplot as plt                  # 绘图\n",
    "import seaborn as sns                            # 更多绘图功能\n",
    "import pandas_datareader.data as webdata\n",
    "\n",
    "from itertools import product                    # 一些有用的函数\n",
    "from tqdm import tqdm_notebook\n",
    "\n",
    "import datetime                                  # 日期函数\n",
    "\n",
    "import warnings                                  # 勿扰模式\n",
    "warnings.filterwarnings('ignore')\n",
    "\n",
    "%matplotlib inline"
   ]
  },
  {
   "cell_type": "code",
   "execution_count": 3,
   "metadata": {
    "collapsed": false
   },
   "outputs": [],
   "source": [
    "now = datetime.date.today()\n",
    "start = now - datetime.timedelta(days=days_back)\n",
    "# df = data.DataReader(stock, \"iex\", start=start, end=end)\n",
    "df = webdata.get_data_yahoo(stock, start=start, end=now)['Adj Close']"
   ]
  },
  {
   "cell_type": "code",
   "execution_count": 4,
   "metadata": {
    "collapsed": false
   },
   "outputs": [
    {
     "data": {
      "text/plain": [
       "Date\n",
       "2018-07-20    58.081139\n",
       "2018-07-23    58.546898\n",
       "2018-07-24    58.318970\n",
       "2018-07-25    58.883827\n",
       "2018-07-26    63.006290\n",
       "2018-07-27    62.124321\n",
       "2018-07-30    61.480186\n",
       "2018-07-31    63.511684\n",
       "2018-08-01    63.769341\n",
       "2018-08-02    64.185547\n",
       "2018-08-03    64.809868\n",
       "2018-08-06    65.136894\n",
       "2018-08-07    64.849510\n",
       "2018-08-08    64.572037\n",
       "2018-08-09    64.492760\n",
       "2018-08-10    64.235100\n",
       "2018-08-13    64.254921\n",
       "2018-08-14    64.839600\n",
       "2018-08-15    65.087341\n",
       "2018-08-16    65.166618\n",
       "2018-08-17    65.463913\n",
       "2018-08-20    65.563011\n",
       "2018-08-21    65.949493\n",
       "2018-08-22    66.236870\n",
       "2018-08-23    66.256691\n",
       "2018-08-24    66.544075\n",
       "2018-08-27    66.732361\n",
       "2018-08-28    69.150345\n",
       "2018-08-29    68.575577\n",
       "2018-08-30    67.525146\n",
       "                ...    \n",
       "2018-09-17    73.239998\n",
       "2018-09-18    74.720001\n",
       "2018-09-19    74.059998\n",
       "2018-09-20    74.599998\n",
       "2018-09-21    73.699997\n",
       "2018-09-24    73.580002\n",
       "2018-09-25    72.739998\n",
       "2018-09-26    71.760002\n",
       "2018-09-27    71.709999\n",
       "2018-09-28    72.029999\n",
       "2018-10-01    72.599998\n",
       "2018-10-02    73.349998\n",
       "2018-10-03    72.639999\n",
       "2018-10-04    72.379997\n",
       "2018-10-05    71.209999\n",
       "2018-10-08    70.930000\n",
       "2018-10-09    70.129997\n",
       "2018-10-10    66.730003\n",
       "2018-10-11    64.290001\n",
       "2018-10-12    64.290001\n",
       "2018-10-15    64.169998\n",
       "2018-10-16    66.120003\n",
       "2018-10-17    66.099998\n",
       "2018-10-18    65.150002\n",
       "2018-10-19    65.360001\n",
       "2018-10-22    66.120003\n",
       "2018-10-23    66.379997\n",
       "2018-10-24    62.619999\n",
       "2018-10-25    63.200001\n",
       "2018-10-26    62.480000\n",
       "Name: Adj Close, Length: 70, dtype: float64"
      ]
     },
     "execution_count": 4,
     "metadata": {},
     "output_type": "execute_result"
    }
   ],
   "source": [
    "df"
   ]
  },
  {
   "cell_type": "code",
   "execution_count": 5,
   "metadata": {
    "collapsed": false
   },
   "outputs": [],
   "source": [
    "# 需要预测的5天日期\n",
    "d = [None] * 5\n",
    "j = 0\n",
    "\n",
    "for i in range(0,7):\n",
    "    if (now + datetime.timedelta(i)).weekday() < 5:\n",
    "        d[j] = str(now + datetime.timedelta(i))\n",
    "        j = j + 1"
   ]
  },
  {
   "cell_type": "code",
   "execution_count": 6,
   "metadata": {
    "collapsed": false
   },
   "outputs": [
    {
     "name": "stdout",
     "output_type": "stream",
     "text": [
      "60.45909986375617\n",
      "[59.20769118 58.72750533 59.38078288 60.78349285 64.19602708]\n"
     ]
    }
   ],
   "source": [
    "#时序数据上的线性模型\n",
    "data = pd.DataFrame(df.copy().astype(float))\n",
    "data.columns = [\"y\"]\n",
    "\n",
    "df = pd.DataFrame({'y':[0,0,0,0,0]},\n",
    "                   index = d)\n",
    "data = data.append(df)\n",
    "\n",
    "for i in range(6, 25):\n",
    "    data[\"lag_{}\".format(i)] = data.y.shift(i)\n",
    "\n",
    "from sklearn.linear_model import LinearRegression\n",
    "from sklearn.model_selection import cross_val_score\n",
    "\n",
    "y = data.dropna().y # 删除n/a的数据\n",
    "X = data.dropna().drop(['y'], axis=1)\n",
    "\n",
    "# 除去需要预测的5天\n",
    "train_index = int(len(X)) - 5\n",
    "X_train = X.iloc[:train_index]\n",
    "y_train = y.iloc[:train_index]\n",
    "\n",
    "# 机器学习\n",
    "lr = LinearRegression()\n",
    "lr.fit(X_train, y_train)\n",
    "prediction = lr.predict(X.tail(5))\n",
    "precentage = prediction.mean()\n",
    "print(prediction.mean())\n",
    "print(prediction)\n",
    "# plt.figure(figsize=(15, 7))\n",
    "# plt.plot(prediction, \"g\", label=\"prediction\", linewidth=2.0)\n"
   ]
  },
  {
   "cell_type": "code",
   "execution_count": 7,
   "metadata": {
    "collapsed": false
   },
   "outputs": [],
   "source": [
    "#储存数据到excel\n",
    "from openpyxl import load_workbook\n",
    "df = pd.DataFrame(prediction)\n",
    "df = df.values.T.tolist()\n",
    "stock_name = [str(stock)]\n",
    "wb = load_workbook('/Users/BartSu/Desktop/StockRS_Result.xlsx')\n",
    "ws = wb.worksheets[0]\n",
    "\n",
    "ws.append(stock_name)\n",
    "\n",
    "# Append 2 new Rows - Columns A - D\n",
    "for row_data in df:\n",
    "    # Append Row Values\n",
    "    ws.append(row_data)\n",
    "\n",
    "wb.save(\"/Users/BartSu/Desktop/StockRS_Result.xlsx\")"
   ]
  },
  {
   "cell_type": "code",
   "execution_count": 8,
   "metadata": {
    "collapsed": true
   },
   "outputs": [],
   "source": []
  }
 ],
 "metadata": {
  "kernelspec": {
   "display_name": "Python 3",
   "language": "python",
   "name": "python3"
  },
  "language_info": {
   "codemirror_mode": {
    "name": "ipython",
    "version": 3
   },
   "file_extension": ".py",
   "mimetype": "text/x-python",
   "name": "python",
   "nbconvert_exporter": "python",
   "pygments_lexer": "ipython3",
   "version": "3.6.0"
  }
 },
 "nbformat": 4,
 "nbformat_minor": 2
}
