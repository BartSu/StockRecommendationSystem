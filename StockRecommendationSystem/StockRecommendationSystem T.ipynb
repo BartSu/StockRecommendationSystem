{
 "cells": [
  {
   "cell_type": "code",
   "execution_count": 1,
   "metadata": {
    "collapsed": true
   },
   "outputs": [],
   "source": [
    "stock = 'T'\n",
    "days_back = 100"
   ]
  },
  {
   "cell_type": "code",
   "execution_count": 2,
   "metadata": {
    "collapsed": true
   },
   "outputs": [],
   "source": [
    "import pandas as pd                              # 表格和数据处理\n",
    "import matplotlib.pyplot as plt                  # 绘图\n",
    "import seaborn as sns                            # 更多绘图功能\n",
    "import pandas_datareader.data as webdata\n",
    "\n",
    "from itertools import product                    # 一些有用的函数\n",
    "from tqdm import tqdm_notebook\n",
    "\n",
    "import datetime                                  # 日期函数\n",
    "\n",
    "import warnings                                  # 勿扰模式\n",
    "warnings.filterwarnings('ignore')\n",
    "\n",
    "%matplotlib inline"
   ]
  },
  {
   "cell_type": "code",
   "execution_count": 3,
   "metadata": {
    "collapsed": false
   },
   "outputs": [],
   "source": [
    "now = datetime.date.today()\n",
    "start = now - datetime.timedelta(days=days_back)\n",
    "# df = data.DataReader(stock, \"iex\", start=start, end=end)\n",
    "df = webdata.get_data_yahoo(stock, start=start, end=now)['Adj Close']"
   ]
  },
  {
   "cell_type": "code",
   "execution_count": 4,
   "metadata": {
    "collapsed": false
   },
   "outputs": [
    {
     "data": {
      "text/plain": [
       "Date\n",
       "2018-07-20    30.644123\n",
       "2018-07-23    30.545588\n",
       "2018-07-24    31.215620\n",
       "2018-07-25    29.806581\n",
       "2018-07-26    29.905117\n",
       "2018-07-27    30.624414\n",
       "2018-07-30    31.530930\n",
       "2018-07-31    31.501369\n",
       "2018-08-01    31.432396\n",
       "2018-08-02    31.383129\n",
       "2018-08-03    31.796972\n",
       "2018-08-06    31.639318\n",
       "2018-08-07    31.925068\n",
       "2018-08-08    31.885653\n",
       "2018-08-09    32.013748\n",
       "2018-08-10    31.787117\n",
       "2018-08-13    31.737850\n",
       "2018-08-14    31.767414\n",
       "2018-08-15    31.994041\n",
       "2018-08-16    32.604954\n",
       "2018-08-17    32.545830\n",
       "2018-08-20    32.624660\n",
       "2018-08-21    32.910408\n",
       "2018-08-22    32.200962\n",
       "2018-08-23    32.013748\n",
       "2018-08-24    32.161549\n",
       "2018-08-27    32.348766\n",
       "2018-08-28    32.191105\n",
       "2018-08-29    31.757557\n",
       "2018-08-30    31.491514\n",
       "                ...    \n",
       "2018-09-17    33.127182\n",
       "2018-09-18    33.225719\n",
       "2018-09-19    32.880848\n",
       "2018-09-20    32.949821\n",
       "2018-09-21    33.284836\n",
       "2018-09-24    33.412933\n",
       "2018-09-25    33.265129\n",
       "2018-09-26    32.861137\n",
       "2018-09-27    32.930111\n",
       "2018-09-28    33.087772\n",
       "2018-10-01    32.999088\n",
       "2018-10-02    33.422783\n",
       "2018-10-03    33.422783\n",
       "2018-10-04    33.619854\n",
       "2018-10-05    33.491760\n",
       "2018-10-08    33.610001\n",
       "2018-10-09    33.500000\n",
       "2018-10-10    32.849998\n",
       "2018-10-11    31.750000\n",
       "2018-10-12    32.250000\n",
       "2018-10-15    32.360001\n",
       "2018-10-16    32.389999\n",
       "2018-10-17    32.570000\n",
       "2018-10-18    32.500000\n",
       "2018-10-19    32.869999\n",
       "2018-10-22    32.669998\n",
       "2018-10-23    33.020000\n",
       "2018-10-24    30.360001\n",
       "2018-10-25    29.980000\n",
       "2018-10-26    29.090000\n",
       "Name: Adj Close, Length: 70, dtype: float64"
      ]
     },
     "execution_count": 4,
     "metadata": {},
     "output_type": "execute_result"
    }
   ],
   "source": [
    "df"
   ]
  },
  {
   "cell_type": "code",
   "execution_count": 5,
   "metadata": {
    "collapsed": false
   },
   "outputs": [],
   "source": [
    "# 需要预测的5天日期\n",
    "d = [None] * 5\n",
    "j = 0\n",
    "\n",
    "for i in range(0,7):\n",
    "    if (now + datetime.timedelta(i)).weekday() < 5:\n",
    "        d[j] = str(now + datetime.timedelta(i))\n",
    "        j = j + 1"
   ]
  },
  {
   "cell_type": "code",
   "execution_count": 6,
   "metadata": {
    "collapsed": false
   },
   "outputs": [
    {
     "name": "stdout",
     "output_type": "stream",
     "text": [
      "32.625492439195455\n",
      "[33.94036328 33.15663538 33.24432746 31.06921065 31.71692543]\n"
     ]
    }
   ],
   "source": [
    "#时序数据上的线性模型\n",
    "data = pd.DataFrame(df.copy().astype(float))\n",
    "data.columns = [\"y\"]\n",
    "\n",
    "df = pd.DataFrame({'y':[0,0,0,0,0]},\n",
    "                   index = d)\n",
    "data = data.append(df)\n",
    "\n",
    "for i in range(6, 25):\n",
    "    data[\"lag_{}\".format(i)] = data.y.shift(i)\n",
    "\n",
    "from sklearn.linear_model import LinearRegression\n",
    "from sklearn.model_selection import cross_val_score\n",
    "\n",
    "y = data.dropna().y # 删除n/a的数据\n",
    "X = data.dropna().drop(['y'], axis=1)\n",
    "\n",
    "# 除去需要预测的5天\n",
    "train_index = int(len(X)) - 5\n",
    "X_train = X.iloc[:train_index]\n",
    "y_train = y.iloc[:train_index]\n",
    "\n",
    "# 机器学习\n",
    "lr = LinearRegression()\n",
    "lr.fit(X_train, y_train)\n",
    "prediction = lr.predict(X.tail(5))\n",
    "precentage = prediction.mean()\n",
    "print(prediction.mean())\n",
    "print(prediction)\n",
    "# plt.figure(figsize=(15, 7))\n",
    "# plt.plot(prediction, \"g\", label=\"prediction\", linewidth=2.0)\n"
   ]
  },
  {
   "cell_type": "code",
   "execution_count": 7,
   "metadata": {
    "collapsed": false
   },
   "outputs": [],
   "source": [
    "#储存数据到excel\n",
    "from openpyxl import load_workbook\n",
    "df = pd.DataFrame(prediction)\n",
    "df = df.values.T.tolist()\n",
    "stock_name = [str(stock)]\n",
    "wb = load_workbook('/Users/BartSu/Desktop/StockRS_Result.xlsx')\n",
    "ws = wb.worksheets[0]\n",
    "\n",
    "ws.append(stock_name)\n",
    "\n",
    "# Append 2 new Rows - Columns A - D\n",
    "for row_data in df:\n",
    "    # Append Row Values\n",
    "    ws.append(row_data)\n",
    "\n",
    "wb.save(\"/Users/BartSu/Desktop/StockRS_Result.xlsx\")"
   ]
  },
  {
   "cell_type": "code",
   "execution_count": 8,
   "metadata": {
    "collapsed": true
   },
   "outputs": [],
   "source": []
  }
 ],
 "metadata": {
  "kernelspec": {
   "display_name": "Python 3",
   "language": "python",
   "name": "python3"
  },
  "language_info": {
   "codemirror_mode": {
    "name": "ipython",
    "version": 3
   },
   "file_extension": ".py",
   "mimetype": "text/x-python",
   "name": "python",
   "nbconvert_exporter": "python",
   "pygments_lexer": "ipython3",
   "version": "3.6.0"
  }
 },
 "nbformat": 4,
 "nbformat_minor": 2
}
