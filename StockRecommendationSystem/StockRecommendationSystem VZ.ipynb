{
 "cells": [
  {
   "cell_type": "code",
   "execution_count": 1,
   "metadata": {
    "collapsed": true
   },
   "outputs": [],
   "source": [
    "stock = 'VZ'\n",
    "days_back = 100"
   ]
  },
  {
   "cell_type": "code",
   "execution_count": 2,
   "metadata": {
    "collapsed": true
   },
   "outputs": [],
   "source": [
    "import pandas as pd                              # 表格和数据处理\n",
    "import matplotlib.pyplot as plt                  # 绘图\n",
    "import seaborn as sns                            # 更多绘图功能\n",
    "import pandas_datareader.data as webdata\n",
    "\n",
    "from itertools import product                    # 一些有用的函数\n",
    "from tqdm import tqdm_notebook\n",
    "\n",
    "import datetime                                  # 日期函数\n",
    "\n",
    "import warnings                                  # 勿扰模式\n",
    "warnings.filterwarnings('ignore')\n",
    "\n",
    "%matplotlib inline"
   ]
  },
  {
   "cell_type": "code",
   "execution_count": 3,
   "metadata": {
    "collapsed": false
   },
   "outputs": [],
   "source": [
    "now = datetime.date.today()\n",
    "start = now - datetime.timedelta(days=days_back)\n",
    "# df = data.DataReader(stock, \"iex\", start=start, end=end)\n",
    "df = webdata.get_data_yahoo(stock, start=start, end=now)['Adj Close']"
   ]
  },
  {
   "cell_type": "code",
   "execution_count": 4,
   "metadata": {
    "collapsed": false
   },
   "outputs": [
    {
     "data": {
      "text/plain": [
       "Date\n",
       "2018-07-20    50.065224\n",
       "2018-07-23    50.193798\n",
       "2018-07-24    50.945469\n",
       "2018-07-25    50.352047\n",
       "2018-07-26    50.619087\n",
       "2018-07-27    51.439987\n",
       "2018-07-30    51.914730\n",
       "2018-07-31    51.074043\n",
       "2018-08-01    51.163059\n",
       "2018-08-02    51.410316\n",
       "2018-08-03    51.697140\n",
       "2018-08-06    51.904839\n",
       "2018-08-07    51.885056\n",
       "2018-08-08    52.122429\n",
       "2018-08-09    52.429028\n",
       "2018-08-10    51.894951\n",
       "2018-08-13    51.647690\n",
       "2018-08-14    52.290562\n",
       "2018-08-15    52.656509\n",
       "2018-08-16    53.675220\n",
       "2018-08-17    54.189522\n",
       "2018-08-20    54.051060\n",
       "2018-08-21    54.308208\n",
       "2018-08-22    53.546646\n",
       "2018-08-23    53.685112\n",
       "2018-08-24    54.179630\n",
       "2018-08-27    54.248863\n",
       "2018-08-28    54.051060\n",
       "2018-08-29    53.971931\n",
       "2018-08-30    54.149960\n",
       "                ...    \n",
       "2018-09-17    54.100510\n",
       "2018-09-18    53.793907\n",
       "2018-09-19    52.913658\n",
       "2018-09-20    53.358730\n",
       "2018-09-21    53.823574\n",
       "2018-09-24    52.953224\n",
       "2018-09-25    52.468590\n",
       "2018-09-26    52.557606\n",
       "2018-09-27    53.002674\n",
       "2018-09-28    52.804867\n",
       "2018-10-01    53.249935\n",
       "2018-10-02    53.823574\n",
       "2018-10-03    53.695004\n",
       "2018-10-04    54.417004\n",
       "2018-10-05    54.337875\n",
       "2018-10-08    54.417004\n",
       "2018-10-09    54.990002\n",
       "2018-10-10    54.330002\n",
       "2018-10-11    53.330002\n",
       "2018-10-12    53.730000\n",
       "2018-10-15    53.599998\n",
       "2018-10-16    53.700001\n",
       "2018-10-17    53.959999\n",
       "2018-10-18    54.650002\n",
       "2018-10-19    54.900002\n",
       "2018-10-22    54.980000\n",
       "2018-10-23    57.209999\n",
       "2018-10-24    57.419998\n",
       "2018-10-25    56.430000\n",
       "2018-10-26    55.509998\n",
       "Name: Adj Close, Length: 70, dtype: float64"
      ]
     },
     "execution_count": 4,
     "metadata": {},
     "output_type": "execute_result"
    }
   ],
   "source": [
    "df"
   ]
  },
  {
   "cell_type": "code",
   "execution_count": 5,
   "metadata": {
    "collapsed": false
   },
   "outputs": [],
   "source": [
    "# 需要预测的5天日期\n",
    "d = [None] * 5\n",
    "j = 0\n",
    "\n",
    "for i in range(0,7):\n",
    "    if (now + datetime.timedelta(i)).weekday() < 5:\n",
    "        d[j] = str(now + datetime.timedelta(i))\n",
    "        j = j + 1"
   ]
  },
  {
   "cell_type": "code",
   "execution_count": 6,
   "metadata": {
    "collapsed": false
   },
   "outputs": [
    {
     "name": "stdout",
     "output_type": "stream",
     "text": [
      "54.03222476230824\n",
      "[54.46725494 54.16052098 54.79130701 53.64567437 53.0963665 ]\n"
     ]
    }
   ],
   "source": [
    "#时序数据上的线性模型\n",
    "data = pd.DataFrame(df.copy().astype(float))\n",
    "data.columns = [\"y\"]\n",
    "\n",
    "df = pd.DataFrame({'y':[0,0,0,0,0]},\n",
    "                   index = d)\n",
    "data = data.append(df)\n",
    "\n",
    "for i in range(6, 25):\n",
    "    data[\"lag_{}\".format(i)] = data.y.shift(i)\n",
    "\n",
    "from sklearn.linear_model import LinearRegression\n",
    "from sklearn.model_selection import cross_val_score\n",
    "\n",
    "y = data.dropna().y # 删除n/a的数据\n",
    "X = data.dropna().drop(['y'], axis=1)\n",
    "\n",
    "# 除去需要预测的5天\n",
    "train_index = int(len(X)) - 5\n",
    "X_train = X.iloc[:train_index]\n",
    "y_train = y.iloc[:train_index]\n",
    "\n",
    "# 机器学习\n",
    "lr = LinearRegression()\n",
    "lr.fit(X_train, y_train)\n",
    "prediction = lr.predict(X.tail(5))\n",
    "precentage = prediction.mean()\n",
    "print(prediction.mean())\n",
    "print(prediction)\n",
    "# plt.figure(figsize=(15, 7))\n",
    "# plt.plot(prediction, \"g\", label=\"prediction\", linewidth=2.0)\n"
   ]
  },
  {
   "cell_type": "code",
   "execution_count": 7,
   "metadata": {
    "collapsed": false
   },
   "outputs": [],
   "source": [
    "#储存数据到excel\n",
    "from openpyxl import load_workbook\n",
    "df = pd.DataFrame(prediction)\n",
    "df = df.values.T.tolist()\n",
    "stock_name = [str(stock)]\n",
    "wb = load_workbook('/Users/BartSu/Desktop/StockRS_Result.xlsx')\n",
    "ws = wb.worksheets[0]\n",
    "\n",
    "ws.append(stock_name)\n",
    "\n",
    "# Append 2 new Rows - Columns A - D\n",
    "for row_data in df:\n",
    "    # Append Row Values\n",
    "    ws.append(row_data)\n",
    "\n",
    "wb.save(\"/Users/BartSu/Desktop/StockRS_Result.xlsx\")"
   ]
  },
  {
   "cell_type": "code",
   "execution_count": 8,
   "metadata": {
    "collapsed": true
   },
   "outputs": [],
   "source": []
  }
 ],
 "metadata": {
  "kernelspec": {
   "display_name": "Python 3",
   "language": "python",
   "name": "python3"
  },
  "language_info": {
   "codemirror_mode": {
    "name": "ipython",
    "version": 3
   },
   "file_extension": ".py",
   "mimetype": "text/x-python",
   "name": "python",
   "nbconvert_exporter": "python",
   "pygments_lexer": "ipython3",
   "version": "3.6.0"
  }
 },
 "nbformat": 4,
 "nbformat_minor": 2
}
