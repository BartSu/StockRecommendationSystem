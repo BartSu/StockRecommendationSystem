{
 "cells": [
  {
   "cell_type": "code",
   "execution_count": 1,
   "metadata": {
    "collapsed": true
   },
   "outputs": [],
   "source": [
    "stock = 'GOOG'\n",
    "days_back = 100"
   ]
  },
  {
   "cell_type": "code",
   "execution_count": 2,
   "metadata": {
    "collapsed": true
   },
   "outputs": [],
   "source": [
    "import pandas as pd                              # 表格和数据处理\n",
    "import matplotlib.pyplot as plt                  # 绘图\n",
    "import seaborn as sns                            # 更多绘图功能\n",
    "import pandas_datareader.data as webdata\n",
    "\n",
    "from itertools import product                    # 一些有用的函数\n",
    "from tqdm import tqdm_notebook\n",
    "\n",
    "import datetime                                  # 日期函数\n",
    "\n",
    "import warnings                                  # 勿扰模式\n",
    "warnings.filterwarnings('ignore')\n",
    "\n",
    "%matplotlib inline"
   ]
  },
  {
   "cell_type": "code",
   "execution_count": 3,
   "metadata": {
    "collapsed": false
   },
   "outputs": [],
   "source": [
    "now = datetime.date.today()\n",
    "start = now - datetime.timedelta(days=days_back)\n",
    "# df = data.DataReader(stock, \"iex\", start=start, end=end)\n",
    "df = webdata.get_data_yahoo(stock, start=start, end=now)['Adj Close']"
   ]
  },
  {
   "cell_type": "code",
   "execution_count": 4,
   "metadata": {
    "collapsed": false
   },
   "outputs": [
    {
     "data": {
      "text/plain": [
       "Date\n",
       "2018-07-20    1184.910034\n",
       "2018-07-23    1205.500000\n",
       "2018-07-24    1248.079956\n",
       "2018-07-25    1263.699951\n",
       "2018-07-26    1268.329956\n",
       "2018-07-27    1238.500000\n",
       "2018-07-30    1219.739990\n",
       "2018-07-31    1217.260010\n",
       "2018-08-01    1220.010010\n",
       "2018-08-02    1226.150024\n",
       "2018-08-03    1223.709961\n",
       "2018-08-06    1224.770020\n",
       "2018-08-07    1242.219971\n",
       "2018-08-08    1245.609985\n",
       "2018-08-09    1249.099976\n",
       "2018-08-10    1237.609985\n",
       "2018-08-13    1235.010010\n",
       "2018-08-14    1242.099976\n",
       "2018-08-15    1214.380005\n",
       "2018-08-16    1206.489990\n",
       "2018-08-17    1200.959961\n",
       "2018-08-20    1207.770020\n",
       "2018-08-21    1201.619995\n",
       "2018-08-22    1207.329956\n",
       "2018-08-23    1205.380005\n",
       "2018-08-24    1220.650024\n",
       "2018-08-27    1241.819946\n",
       "2018-08-28    1231.150024\n",
       "2018-08-29    1249.300049\n",
       "2018-08-30    1239.119995\n",
       "                 ...     \n",
       "2018-09-17    1156.050049\n",
       "2018-09-18    1161.219971\n",
       "2018-09-19    1171.089966\n",
       "2018-09-20    1186.869995\n",
       "2018-09-21    1166.089966\n",
       "2018-09-24    1173.369995\n",
       "2018-09-25    1184.650024\n",
       "2018-09-26    1180.489990\n",
       "2018-09-27    1194.640015\n",
       "2018-09-28    1193.469971\n",
       "2018-10-01    1195.310059\n",
       "2018-10-02    1200.109985\n",
       "2018-10-03    1202.949951\n",
       "2018-10-04    1168.189941\n",
       "2018-10-05    1157.349976\n",
       "2018-10-08    1148.969971\n",
       "2018-10-09    1138.819946\n",
       "2018-10-10    1081.219971\n",
       "2018-10-11    1079.319946\n",
       "2018-10-12    1110.079956\n",
       "2018-10-15    1092.250000\n",
       "2018-10-16    1121.280029\n",
       "2018-10-17    1115.689941\n",
       "2018-10-18    1087.969971\n",
       "2018-10-19    1096.459961\n",
       "2018-10-22    1101.160034\n",
       "2018-10-23    1103.689941\n",
       "2018-10-24    1050.709961\n",
       "2018-10-25    1095.569946\n",
       "2018-10-26    1071.469971\n",
       "Name: Adj Close, Length: 70, dtype: float64"
      ]
     },
     "execution_count": 4,
     "metadata": {},
     "output_type": "execute_result"
    }
   ],
   "source": [
    "df"
   ]
  },
  {
   "cell_type": "code",
   "execution_count": 5,
   "metadata": {
    "collapsed": false
   },
   "outputs": [],
   "source": [
    "# 需要预测的5天日期\n",
    "d = [None] * 5\n",
    "j = 0\n",
    "\n",
    "for i in range(0,7):\n",
    "    if (now + datetime.timedelta(i)).weekday() < 5:\n",
    "        d[j] = str(now + datetime.timedelta(i))\n",
    "        j = j + 1"
   ]
  },
  {
   "cell_type": "code",
   "execution_count": 6,
   "metadata": {
    "collapsed": false
   },
   "outputs": [
    {
     "name": "stdout",
     "output_type": "stream",
     "text": [
      "1096.3262560692704\n",
      "[1082.28170129 1106.67448228 1134.61646906 1073.73404313 1084.32458459]\n"
     ]
    }
   ],
   "source": [
    "#时序数据上的线性模型\n",
    "data = pd.DataFrame(df.copy().astype(float))\n",
    "data.columns = [\"y\"]\n",
    "\n",
    "df = pd.DataFrame({'y':[0,0,0,0,0]},\n",
    "                   index = d)\n",
    "data = data.append(df)\n",
    "\n",
    "for i in range(6, 25):\n",
    "    data[\"lag_{}\".format(i)] = data.y.shift(i)\n",
    "\n",
    "from sklearn.linear_model import LinearRegression\n",
    "from sklearn.model_selection import cross_val_score\n",
    "\n",
    "y = data.dropna().y # 删除n/a的数据\n",
    "X = data.dropna().drop(['y'], axis=1)\n",
    "\n",
    "# 除去需要预测的5天\n",
    "train_index = int(len(X)) - 5\n",
    "X_train = X.iloc[:train_index]\n",
    "y_train = y.iloc[:train_index]\n",
    "\n",
    "# 机器学习\n",
    "lr = LinearRegression()\n",
    "lr.fit(X_train, y_train)\n",
    "prediction = lr.predict(X.tail(5))\n",
    "precentage = prediction.mean()\n",
    "print(prediction.mean())\n",
    "print(prediction)\n",
    "# plt.figure(figsize=(15, 7))\n",
    "# plt.plot(prediction, \"g\", label=\"prediction\", linewidth=2.0)\n"
   ]
  },
  {
   "cell_type": "code",
   "execution_count": 7,
   "metadata": {
    "collapsed": false
   },
   "outputs": [],
   "source": [
    "#储存数据到excel\n",
    "from openpyxl import load_workbook\n",
    "df = pd.DataFrame(prediction)\n",
    "df = df.values.T.tolist()\n",
    "stock_name = [str(stock)]\n",
    "wb = load_workbook('/Users/BartSu/Desktop/StockRS_Result.xlsx')\n",
    "ws = wb.worksheets[0]\n",
    "\n",
    "ws.append(stock_name)\n",
    "\n",
    "# Append 2 new Rows - Columns A - D\n",
    "for row_data in df:\n",
    "    # Append Row Values\n",
    "    ws.append(row_data)\n",
    "\n",
    "wb.save(\"/Users/BartSu/Desktop/StockRS_Result.xlsx\")"
   ]
  },
  {
   "cell_type": "code",
   "execution_count": 8,
   "metadata": {
    "collapsed": true
   },
   "outputs": [],
   "source": []
  }
 ],
 "metadata": {
  "kernelspec": {
   "display_name": "Python 3",
   "language": "python",
   "name": "python3"
  },
  "language_info": {
   "codemirror_mode": {
    "name": "ipython",
    "version": 3
   },
   "file_extension": ".py",
   "mimetype": "text/x-python",
   "name": "python",
   "nbconvert_exporter": "python",
   "pygments_lexer": "ipython3",
   "version": "3.6.0"
  }
 },
 "nbformat": 4,
 "nbformat_minor": 2
}
