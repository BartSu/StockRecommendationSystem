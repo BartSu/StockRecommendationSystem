{
 "cells": [
  {
   "cell_type": "code",
   "execution_count": 1,
   "metadata": {
    "collapsed": true
   },
   "outputs": [],
   "source": [
    "stock = 'AMZN'\n",
    "days_back = 100"
   ]
  },
  {
   "cell_type": "code",
   "execution_count": 2,
   "metadata": {
    "collapsed": true
   },
   "outputs": [],
   "source": [
    "import pandas as pd                              # 表格和数据处理\n",
    "import matplotlib.pyplot as plt                  # 绘图\n",
    "import seaborn as sns                            # 更多绘图功能\n",
    "import pandas_datareader.data as webdata\n",
    "\n",
    "from itertools import product                    # 一些有用的函数\n",
    "from tqdm import tqdm_notebook\n",
    "\n",
    "import datetime                                  # 日期函数\n",
    "\n",
    "import warnings                                  # 勿扰模式\n",
    "warnings.filterwarnings('ignore')\n",
    "\n",
    "%matplotlib inline"
   ]
  },
  {
   "cell_type": "code",
   "execution_count": 3,
   "metadata": {
    "collapsed": false
   },
   "outputs": [],
   "source": [
    "now = datetime.date.today()\n",
    "start = now - datetime.timedelta(days=days_back)\n",
    "# df = data.DataReader(stock, \"iex\", start=start, end=end)\n",
    "df = webdata.get_data_yahoo(stock, start=start, end=now)['Adj Close']"
   ]
  },
  {
   "cell_type": "code",
   "execution_count": 4,
   "metadata": {
    "collapsed": false
   },
   "outputs": [
    {
     "data": {
      "text/plain": [
       "Date\n",
       "2018-07-23    1802.000000\n",
       "2018-07-24    1829.239990\n",
       "2018-07-25    1863.609985\n",
       "2018-07-26    1808.000000\n",
       "2018-07-27    1817.270020\n",
       "2018-07-30    1779.219971\n",
       "2018-07-31    1777.439941\n",
       "2018-08-01    1797.170044\n",
       "2018-08-02    1834.329956\n",
       "2018-08-03    1823.290039\n",
       "2018-08-06    1847.750000\n",
       "2018-08-07    1862.479980\n",
       "2018-08-08    1886.520020\n",
       "2018-08-09    1898.520020\n",
       "2018-08-10    1886.300049\n",
       "2018-08-13    1896.199951\n",
       "2018-08-14    1919.650024\n",
       "2018-08-15    1882.619995\n",
       "2018-08-16    1886.520020\n",
       "2018-08-17    1882.219971\n",
       "2018-08-20    1876.709961\n",
       "2018-08-21    1883.420044\n",
       "2018-08-22    1904.900024\n",
       "2018-08-23    1902.900024\n",
       "2018-08-24    1905.390015\n",
       "2018-08-27    1927.680054\n",
       "2018-08-28    1932.819946\n",
       "2018-08-29    1998.099976\n",
       "2018-08-30    2002.380005\n",
       "2018-08-31    2012.709961\n",
       "                 ...     \n",
       "2018-09-18    1941.050049\n",
       "2018-09-19    1926.420044\n",
       "2018-09-20    1944.300049\n",
       "2018-09-21    1915.010010\n",
       "2018-09-24    1934.359985\n",
       "2018-09-25    1974.550049\n",
       "2018-09-26    1974.849976\n",
       "2018-09-27    2012.979980\n",
       "2018-09-28    2003.000000\n",
       "2018-10-01    2004.359985\n",
       "2018-10-02    1971.310059\n",
       "2018-10-03    1952.760010\n",
       "2018-10-04    1909.420044\n",
       "2018-10-05    1889.650024\n",
       "2018-10-08    1864.420044\n",
       "2018-10-09    1870.319946\n",
       "2018-10-10    1755.250000\n",
       "2018-10-11    1719.359985\n",
       "2018-10-12    1788.609985\n",
       "2018-10-15    1760.949951\n",
       "2018-10-16    1819.959961\n",
       "2018-10-17    1831.729980\n",
       "2018-10-18    1770.719971\n",
       "2018-10-19    1764.030029\n",
       "2018-10-22    1789.300049\n",
       "2018-10-23    1768.699951\n",
       "2018-10-24    1664.199951\n",
       "2018-10-25    1782.170044\n",
       "2018-10-26    1642.810059\n",
       "2018-10-29    1538.880005\n",
       "Name: Adj Close, Length: 70, dtype: float64"
      ]
     },
     "execution_count": 4,
     "metadata": {},
     "output_type": "execute_result"
    }
   ],
   "source": [
    "df"
   ]
  },
  {
   "cell_type": "code",
   "execution_count": 5,
   "metadata": {
    "collapsed": false
   },
   "outputs": [],
   "source": [
    "# 需要预测的5天日期\n",
    "d = [None] * 5\n",
    "j = 0\n",
    "\n",
    "for i in range(0,7):\n",
    "    if (now + datetime.timedelta(i)).weekday() < 5:\n",
    "        d[j] = str(now + datetime.timedelta(i))\n",
    "        j = j + 1"
   ]
  },
  {
   "cell_type": "code",
   "execution_count": 6,
   "metadata": {
    "collapsed": false
   },
   "outputs": [
    {
     "name": "stdout",
     "output_type": "stream",
     "text": [
      "1555.3609965034789\n",
      "[1617.48291347 1567.24080821 1424.79514487 1594.56181669 1572.72429927]\n"
     ]
    }
   ],
   "source": [
    "#时序数据上的线性模型\n",
    "data = pd.DataFrame(df.copy().astype(float))\n",
    "data.columns = [\"y\"]\n",
    "\n",
    "df = pd.DataFrame({'y':[0,0,0,0,0]},\n",
    "                   index = d)\n",
    "data = data.append(df)\n",
    "\n",
    "for i in range(6, 25):\n",
    "    data[\"lag_{}\".format(i)] = data.y.shift(i)\n",
    "\n",
    "from sklearn.linear_model import LinearRegression\n",
    "from sklearn.model_selection import cross_val_score\n",
    "\n",
    "y = data.dropna().y # 删除n/a的数据\n",
    "X = data.dropna().drop(['y'], axis=1)\n",
    "\n",
    "# 除去需要预测的5天\n",
    "train_index = int(len(X)) - 5\n",
    "X_train = X.iloc[:train_index]\n",
    "y_train = y.iloc[:train_index]\n",
    "\n",
    "# 机器学习\n",
    "lr = LinearRegression()\n",
    "lr.fit(X_train, y_train)\n",
    "prediction = lr.predict(X.tail(5))\n",
    "precentage = prediction.mean()\n",
    "print(prediction.mean())\n",
    "print(prediction)\n",
    "# plt.figure(figsize=(15, 7))\n",
    "# plt.plot(prediction, \"g\", label=\"prediction\", linewidth=2.0)\n"
   ]
  },
  {
   "cell_type": "code",
   "execution_count": 7,
   "metadata": {
    "collapsed": false
   },
   "outputs": [],
   "source": [
    "#储存数据到excel\n",
    "from openpyxl import load_workbook\n",
    "df = pd.DataFrame(prediction)\n",
    "df = df.values.T.tolist()\n",
    "stock_name = [str(stock)]\n",
    "wb = load_workbook('/Users/BartSu/Desktop/StockRS_Result.xlsx')\n",
    "ws = wb.worksheets[0]\n",
    "\n",
    "ws.append(stock_name)\n",
    "\n",
    "# Append 2 new Rows - Columns A - D\n",
    "for row_data in df:\n",
    "    # Append Row Values\n",
    "    ws.append(row_data)\n",
    "\n",
    "wb.save(\"/Users/BartSu/Desktop/StockRS_Result.xlsx\")"
   ]
  }
 ],
 "metadata": {
  "kernelspec": {
   "display_name": "Python 3",
   "language": "python",
   "name": "python3"
  },
  "language_info": {
   "codemirror_mode": {
    "name": "ipython",
    "version": 3
   },
   "file_extension": ".py",
   "mimetype": "text/x-python",
   "name": "python",
   "nbconvert_exporter": "python",
   "pygments_lexer": "ipython3",
   "version": "3.6.0"
  }
 },
 "nbformat": 4,
 "nbformat_minor": 2
}
