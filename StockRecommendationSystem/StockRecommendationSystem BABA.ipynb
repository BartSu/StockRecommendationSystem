{
 "cells": [
  {
   "cell_type": "code",
   "execution_count": 1,
   "metadata": {
    "collapsed": true
   },
   "outputs": [],
   "source": [
    "stock = 'BABA'\n",
    "days_back = 100"
   ]
  },
  {
   "cell_type": "code",
   "execution_count": 2,
   "metadata": {
    "collapsed": true
   },
   "outputs": [],
   "source": [
    "import pandas as pd                              # 表格和数据处理\n",
    "import matplotlib.pyplot as plt                  # 绘图\n",
    "import seaborn as sns                            # 更多绘图功能\n",
    "import pandas_datareader.data as webdata\n",
    "\n",
    "from itertools import product                    # 一些有用的函数\n",
    "from tqdm import tqdm_notebook\n",
    "\n",
    "import datetime                                  # 日期函数\n",
    "\n",
    "import warnings                                  # 勿扰模式\n",
    "warnings.filterwarnings('ignore')\n",
    "\n",
    "%matplotlib inline"
   ]
  },
  {
   "cell_type": "code",
   "execution_count": 3,
   "metadata": {
    "collapsed": false
   },
   "outputs": [],
   "source": [
    "now = datetime.date.today()\n",
    "start = now - datetime.timedelta(days=days_back)\n",
    "# df = data.DataReader(stock, \"iex\", start=start, end=end)\n",
    "df = webdata.get_data_yahoo(stock, start=start, end=now)['Adj Close']"
   ]
  },
  {
   "cell_type": "code",
   "execution_count": 4,
   "metadata": {
    "collapsed": false
   },
   "outputs": [
    {
     "data": {
      "text/plain": [
       "Date\n",
       "2018-07-23    187.039993\n",
       "2018-07-24    189.000000\n",
       "2018-07-25    197.979996\n",
       "2018-07-26    194.179993\n",
       "2018-07-27    189.419998\n",
       "2018-07-30    184.820007\n",
       "2018-07-31    187.229996\n",
       "2018-08-01    185.270004\n",
       "2018-08-02    182.600006\n",
       "2018-08-03    180.839996\n",
       "2018-08-06    178.619995\n",
       "2018-08-07    179.919998\n",
       "2018-08-08    177.520004\n",
       "2018-08-09    177.190002\n",
       "2018-08-10    180.009995\n",
       "2018-08-13    177.679993\n",
       "2018-08-14    172.529999\n",
       "2018-08-15    169.830002\n",
       "2018-08-16    171.990005\n",
       "2018-08-17    172.779999\n",
       "2018-08-20    176.289993\n",
       "2018-08-21    177.919998\n",
       "2018-08-22    177.850006\n",
       "2018-08-23    172.229996\n",
       "2018-08-24    174.229996\n",
       "2018-08-27    180.649994\n",
       "2018-08-28    178.190002\n",
       "2018-08-29    178.500000\n",
       "2018-08-30    174.600006\n",
       "2018-08-31    175.009995\n",
       "                 ...    \n",
       "2018-09-18    156.649994\n",
       "2018-09-19    162.630005\n",
       "2018-09-20    165.880005\n",
       "2018-09-21    164.630005\n",
       "2018-09-24    163.160004\n",
       "2018-09-25    164.250000\n",
       "2018-09-26    165.399994\n",
       "2018-09-27    166.320007\n",
       "2018-09-28    164.759995\n",
       "2018-10-01    162.000000\n",
       "2018-10-02    160.229996\n",
       "2018-10-03    162.369995\n",
       "2018-10-04    156.130005\n",
       "2018-10-05    154.630005\n",
       "2018-10-08    151.139999\n",
       "2018-10-09    146.940002\n",
       "2018-10-10    138.289993\n",
       "2018-10-11    141.899994\n",
       "2018-10-12    147.289993\n",
       "2018-10-15    144.160004\n",
       "2018-10-16    149.600006\n",
       "2018-10-17    148.139999\n",
       "2018-10-18    142.020004\n",
       "2018-10-19    142.929993\n",
       "2018-10-22    148.800003\n",
       "2018-10-23    146.649994\n",
       "2018-10-24    139.610001\n",
       "2018-10-25    144.600006\n",
       "2018-10-26    142.869995\n",
       "2018-10-29    133.380005\n",
       "Name: Adj Close, Length: 70, dtype: float64"
      ]
     },
     "execution_count": 4,
     "metadata": {},
     "output_type": "execute_result"
    }
   ],
   "source": [
    "df"
   ]
  },
  {
   "cell_type": "code",
   "execution_count": 5,
   "metadata": {
    "collapsed": false
   },
   "outputs": [],
   "source": [
    "# 需要预测的5天日期\n",
    "d = [None] * 5\n",
    "j = 0\n",
    "\n",
    "for i in range(0,7):\n",
    "    if (now + datetime.timedelta(i)).weekday() < 5:\n",
    "        d[j] = str(now + datetime.timedelta(i))\n",
    "        j = j + 1"
   ]
  },
  {
   "cell_type": "code",
   "execution_count": 6,
   "metadata": {
    "collapsed": false
   },
   "outputs": [
    {
     "name": "stdout",
     "output_type": "stream",
     "text": [
      "142.6231246301667\n",
      "[149.38169797 144.63589598 136.9040728  138.93914731 143.2548091 ]\n"
     ]
    }
   ],
   "source": [
    "#时序数据上的线性模型\n",
    "data = pd.DataFrame(df.copy().astype(float))\n",
    "data.columns = [\"y\"]\n",
    "\n",
    "df = pd.DataFrame({'y':[0,0,0,0,0]},\n",
    "                   index = d)\n",
    "data = data.append(df)\n",
    "\n",
    "for i in range(6, 25):\n",
    "    data[\"lag_{}\".format(i)] = data.y.shift(i)\n",
    "\n",
    "from sklearn.linear_model import LinearRegression\n",
    "from sklearn.model_selection import cross_val_score\n",
    "\n",
    "y = data.dropna().y # 删除n/a的数据\n",
    "X = data.dropna().drop(['y'], axis=1)\n",
    "\n",
    "# 除去需要预测的5天\n",
    "train_index = int(len(X)) - 5\n",
    "X_train = X.iloc[:train_index]\n",
    "y_train = y.iloc[:train_index]\n",
    "\n",
    "# 机器学习\n",
    "lr = LinearRegression()\n",
    "lr.fit(X_train, y_train)\n",
    "prediction = lr.predict(X.tail(5))\n",
    "precentage = prediction.mean()\n",
    "print(prediction.mean())\n",
    "print(prediction)\n",
    "# plt.figure(figsize=(15, 7))\n",
    "# plt.plot(prediction, \"g\", label=\"prediction\", linewidth=2.0)\n"
   ]
  },
  {
   "cell_type": "code",
   "execution_count": 7,
   "metadata": {
    "collapsed": false
   },
   "outputs": [],
   "source": [
    "#储存数据到excel\n",
    "from openpyxl import load_workbook\n",
    "df = pd.DataFrame(prediction)\n",
    "df = df.values.T.tolist()\n",
    "stock_name = [str(stock)]\n",
    "wb = load_workbook('/Users/BartSu/Desktop/StockRS_Result.xlsx')\n",
    "ws = wb.worksheets[0]\n",
    "\n",
    "ws.append(stock_name)\n",
    "\n",
    "# Append 2 new Rows - Columns A - D\n",
    "for row_data in df:\n",
    "    # Append Row Values\n",
    "    ws.append(row_data)\n",
    "\n",
    "wb.save(\"/Users/BartSu/Desktop/StockRS_Result.xlsx\")"
   ]
  }
 ],
 "metadata": {
  "kernelspec": {
   "display_name": "Python 3",
   "language": "python",
   "name": "python3"
  },
  "language_info": {
   "codemirror_mode": {
    "name": "ipython",
    "version": 3
   },
   "file_extension": ".py",
   "mimetype": "text/x-python",
   "name": "python",
   "nbconvert_exporter": "python",
   "pygments_lexer": "ipython3",
   "version": "3.6.0"
  }
 },
 "nbformat": 4,
 "nbformat_minor": 2
}
