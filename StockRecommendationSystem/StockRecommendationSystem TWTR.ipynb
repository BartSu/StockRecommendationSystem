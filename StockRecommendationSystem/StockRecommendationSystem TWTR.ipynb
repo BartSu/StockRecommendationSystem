{
 "cells": [
  {
   "cell_type": "code",
   "execution_count": 1,
   "metadata": {
    "collapsed": true
   },
   "outputs": [],
   "source": [
    "stock = 'TWTR'\n",
    "days_back = 100"
   ]
  },
  {
   "cell_type": "code",
   "execution_count": 2,
   "metadata": {
    "collapsed": true
   },
   "outputs": [],
   "source": [
    "import pandas as pd                              # 表格和数据处理\n",
    "import matplotlib.pyplot as plt                  # 绘图\n",
    "import seaborn as sns                            # 更多绘图功能\n",
    "import pandas_datareader.data as webdata\n",
    "\n",
    "from itertools import product                    # 一些有用的函数\n",
    "from tqdm import tqdm_notebook\n",
    "\n",
    "import datetime                                  # 日期函数\n",
    "\n",
    "import warnings                                  # 勿扰模式\n",
    "warnings.filterwarnings('ignore')\n",
    "\n",
    "%matplotlib inline"
   ]
  },
  {
   "cell_type": "code",
   "execution_count": 3,
   "metadata": {
    "collapsed": false
   },
   "outputs": [],
   "source": [
    "now = datetime.date.today()\n",
    "start = now - datetime.timedelta(days=days_back)\n",
    "# df = data.DataReader(stock, \"iex\", start=start, end=end)\n",
    "df = webdata.get_data_yahoo(stock, start=start, end=now)['Adj Close']"
   ]
  },
  {
   "cell_type": "code",
   "execution_count": 4,
   "metadata": {
    "collapsed": false
   },
   "outputs": [
    {
     "data": {
      "text/plain": [
       "Date\n",
       "2018-07-20    43.419998\n",
       "2018-07-23    43.310001\n",
       "2018-07-24    42.169998\n",
       "2018-07-25    44.220001\n",
       "2018-07-26    42.939999\n",
       "2018-07-27    34.119999\n",
       "2018-07-30    31.379999\n",
       "2018-07-31    31.870001\n",
       "2018-08-01    31.910000\n",
       "2018-08-02    32.820000\n",
       "2018-08-03    31.959999\n",
       "2018-08-06    32.980000\n",
       "2018-08-07    32.669998\n",
       "2018-08-08    31.840000\n",
       "2018-08-09    31.959999\n",
       "2018-08-10    32.009998\n",
       "2018-08-13    32.799999\n",
       "2018-08-14    33.189999\n",
       "2018-08-15    32.380001\n",
       "2018-08-16    32.830002\n",
       "2018-08-17    32.730000\n",
       "2018-08-20    32.599998\n",
       "2018-08-21    33.689999\n",
       "2018-08-22    33.810001\n",
       "2018-08-23    33.880001\n",
       "2018-08-24    34.279999\n",
       "2018-08-27    35.889999\n",
       "2018-08-28    35.490002\n",
       "2018-08-29    35.349998\n",
       "2018-08-30    35.639999\n",
       "                ...    \n",
       "2018-09-17    28.860001\n",
       "2018-09-18    29.219999\n",
       "2018-09-19    29.520000\n",
       "2018-09-20    29.850000\n",
       "2018-09-21    28.500000\n",
       "2018-09-24    28.600000\n",
       "2018-09-25    29.110001\n",
       "2018-09-26    29.010000\n",
       "2018-09-27    29.420000\n",
       "2018-09-28    28.459999\n",
       "2018-10-01    28.309999\n",
       "2018-10-02    28.190001\n",
       "2018-10-03    29.010000\n",
       "2018-10-04    28.230000\n",
       "2018-10-05    28.389999\n",
       "2018-10-08    28.450001\n",
       "2018-10-09    29.270000\n",
       "2018-10-10    26.790001\n",
       "2018-10-11    27.000000\n",
       "2018-10-12    27.990000\n",
       "2018-10-15    28.610001\n",
       "2018-10-16    29.870001\n",
       "2018-10-17    29.549999\n",
       "2018-10-18    29.290001\n",
       "2018-10-19    28.830000\n",
       "2018-10-22    29.180000\n",
       "2018-10-23    28.770000\n",
       "2018-10-24    27.540001\n",
       "2018-10-25    31.799999\n",
       "2018-10-26    32.360001\n",
       "Name: Adj Close, Length: 70, dtype: float64"
      ]
     },
     "execution_count": 4,
     "metadata": {},
     "output_type": "execute_result"
    }
   ],
   "source": [
    "df"
   ]
  },
  {
   "cell_type": "code",
   "execution_count": 5,
   "metadata": {
    "collapsed": false
   },
   "outputs": [],
   "source": [
    "# 需要预测的5天日期\n",
    "d = [None] * 5\n",
    "j = 0\n",
    "\n",
    "for i in range(0,7):\n",
    "    if (now + datetime.timedelta(i)).weekday() < 5:\n",
    "        d[j] = str(now + datetime.timedelta(i))\n",
    "        j = j + 1"
   ]
  },
  {
   "cell_type": "code",
   "execution_count": 6,
   "metadata": {
    "collapsed": false
   },
   "outputs": [
    {
     "name": "stdout",
     "output_type": "stream",
     "text": [
      "28.509089818797953\n",
      "[28.99432493 27.5769     28.57453125 27.50675066 29.89294225]\n"
     ]
    }
   ],
   "source": [
    "#时序数据上的线性模型\n",
    "data = pd.DataFrame(df.copy().astype(float))\n",
    "data.columns = [\"y\"]\n",
    "\n",
    "df = pd.DataFrame({'y':[0,0,0,0,0]},\n",
    "                   index = d)\n",
    "data = data.append(df)\n",
    "\n",
    "for i in range(6, 25):\n",
    "    data[\"lag_{}\".format(i)] = data.y.shift(i)\n",
    "\n",
    "from sklearn.linear_model import LinearRegression\n",
    "from sklearn.model_selection import cross_val_score\n",
    "\n",
    "y = data.dropna().y # 删除n/a的数据\n",
    "X = data.dropna().drop(['y'], axis=1)\n",
    "\n",
    "# 除去需要预测的5天\n",
    "train_index = int(len(X)) - 5\n",
    "X_train = X.iloc[:train_index]\n",
    "y_train = y.iloc[:train_index]\n",
    "\n",
    "# 机器学习\n",
    "lr = LinearRegression()\n",
    "lr.fit(X_train, y_train)\n",
    "prediction = lr.predict(X.tail(5))\n",
    "precentage = prediction.mean()\n",
    "print(prediction.mean())\n",
    "print(prediction)\n",
    "# plt.figure(figsize=(15, 7))\n",
    "# plt.plot(prediction, \"g\", label=\"prediction\", linewidth=2.0)\n"
   ]
  },
  {
   "cell_type": "code",
   "execution_count": 7,
   "metadata": {
    "collapsed": false
   },
   "outputs": [],
   "source": [
    "#储存数据到excel\n",
    "from openpyxl import load_workbook\n",
    "df = pd.DataFrame(prediction)\n",
    "df = df.values.T.tolist()\n",
    "stock_name = [str(stock)]\n",
    "wb = load_workbook('/Users/BartSu/Desktop/StockRS_Result.xlsx')\n",
    "ws = wb.worksheets[0]\n",
    "\n",
    "ws.append(stock_name)\n",
    "\n",
    "# Append 2 new Rows - Columns A - D\n",
    "for row_data in df:\n",
    "    # Append Row Values\n",
    "    ws.append(row_data)\n",
    "\n",
    "wb.save(\"/Users/BartSu/Desktop/StockRS_Result.xlsx\")"
   ]
  },
  {
   "cell_type": "code",
   "execution_count": 8,
   "metadata": {
    "collapsed": true
   },
   "outputs": [],
   "source": []
  }
 ],
 "metadata": {
  "kernelspec": {
   "display_name": "Python 3",
   "language": "python",
   "name": "python3"
  },
  "language_info": {
   "codemirror_mode": {
    "name": "ipython",
    "version": 3
   },
   "file_extension": ".py",
   "mimetype": "text/x-python",
   "name": "python",
   "nbconvert_exporter": "python",
   "pygments_lexer": "ipython3",
   "version": "3.6.0"
  }
 },
 "nbformat": 4,
 "nbformat_minor": 2
}
