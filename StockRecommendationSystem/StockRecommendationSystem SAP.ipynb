{
 "cells": [
  {
   "cell_type": "code",
   "execution_count": 1,
   "metadata": {
    "collapsed": true
   },
   "outputs": [],
   "source": [
    "stock = 'SAP'\n",
    "days_back = 100"
   ]
  },
  {
   "cell_type": "code",
   "execution_count": 2,
   "metadata": {
    "collapsed": true
   },
   "outputs": [],
   "source": [
    "import pandas as pd                              # 表格和数据处理\n",
    "import matplotlib.pyplot as plt                  # 绘图\n",
    "import seaborn as sns                            # 更多绘图功能\n",
    "import pandas_datareader.data as webdata\n",
    "\n",
    "from itertools import product                    # 一些有用的函数\n",
    "from tqdm import tqdm_notebook\n",
    "\n",
    "import datetime                                  # 日期函数\n",
    "\n",
    "import warnings                                  # 勿扰模式\n",
    "warnings.filterwarnings('ignore')\n",
    "\n",
    "%matplotlib inline"
   ]
  },
  {
   "cell_type": "code",
   "execution_count": 3,
   "metadata": {
    "collapsed": false
   },
   "outputs": [],
   "source": [
    "now = datetime.date.today()\n",
    "start = now - datetime.timedelta(days=days_back)\n",
    "# df = data.DataReader(stock, \"iex\", start=start, end=end)\n",
    "df = webdata.get_data_yahoo(stock, start=start, end=now)['Adj Close']"
   ]
  },
  {
   "cell_type": "code",
   "execution_count": 4,
   "metadata": {
    "collapsed": false
   },
   "outputs": [
    {
     "data": {
      "text/plain": [
       "Date\n",
       "2018-07-20    116.400002\n",
       "2018-07-23    116.809998\n",
       "2018-07-24    117.379997\n",
       "2018-07-25    119.269997\n",
       "2018-07-26    119.699997\n",
       "2018-07-27    119.050003\n",
       "2018-07-30    116.769997\n",
       "2018-07-31    116.040001\n",
       "2018-08-01    115.949997\n",
       "2018-08-02    115.570000\n",
       "2018-08-03    115.709999\n",
       "2018-08-06    115.239998\n",
       "2018-08-07    115.589996\n",
       "2018-08-08    116.019997\n",
       "2018-08-09    115.690002\n",
       "2018-08-10    112.860001\n",
       "2018-08-13    114.099998\n",
       "2018-08-14    114.169998\n",
       "2018-08-15    113.220001\n",
       "2018-08-16    116.080002\n",
       "2018-08-17    116.900002\n",
       "2018-08-20    117.699997\n",
       "2018-08-21    117.980003\n",
       "2018-08-22    119.080002\n",
       "2018-08-23    119.290001\n",
       "2018-08-24    120.900002\n",
       "2018-08-27    122.209999\n",
       "2018-08-28    122.029999\n",
       "2018-08-29    122.050003\n",
       "2018-08-30    121.230003\n",
       "                 ...    \n",
       "2018-09-17    119.790001\n",
       "2018-09-18    120.279999\n",
       "2018-09-19    119.489998\n",
       "2018-09-20    120.129997\n",
       "2018-09-21    121.639999\n",
       "2018-09-24    122.040001\n",
       "2018-09-25    126.610001\n",
       "2018-09-26    126.169998\n",
       "2018-09-27    125.360001\n",
       "2018-09-28    123.000000\n",
       "2018-10-01    123.269997\n",
       "2018-10-02    122.209999\n",
       "2018-10-03    122.769997\n",
       "2018-10-04    122.059998\n",
       "2018-10-05    120.089996\n",
       "2018-10-08    117.330002\n",
       "2018-10-09    119.379997\n",
       "2018-10-10    113.010002\n",
       "2018-10-11    112.910004\n",
       "2018-10-12    114.529999\n",
       "2018-10-15    113.250000\n",
       "2018-10-16    117.419998\n",
       "2018-10-17    115.790001\n",
       "2018-10-18    107.010002\n",
       "2018-10-19    109.019997\n",
       "2018-10-22    108.620003\n",
       "2018-10-23    107.739998\n",
       "2018-10-24    103.370003\n",
       "2018-10-25    106.540001\n",
       "2018-10-26    105.410004\n",
       "Name: Adj Close, Length: 70, dtype: float64"
      ]
     },
     "execution_count": 4,
     "metadata": {},
     "output_type": "execute_result"
    }
   ],
   "source": [
    "df"
   ]
  },
  {
   "cell_type": "code",
   "execution_count": 5,
   "metadata": {
    "collapsed": false
   },
   "outputs": [],
   "source": [
    "# 需要预测的5天日期\n",
    "d = [None] * 5\n",
    "j = 0\n",
    "\n",
    "for i in range(0,7):\n",
    "    if (now + datetime.timedelta(i)).weekday() < 5:\n",
    "        d[j] = str(now + datetime.timedelta(i))\n",
    "        j = j + 1"
   ]
  },
  {
   "cell_type": "code",
   "execution_count": 6,
   "metadata": {
    "collapsed": false
   },
   "outputs": [
    {
     "name": "stdout",
     "output_type": "stream",
     "text": [
      "114.88428251828546\n",
      "[119.51057429 120.97173681 109.61718266 105.78356401 118.53835481]\n"
     ]
    }
   ],
   "source": [
    "#时序数据上的线性模型\n",
    "data = pd.DataFrame(df.copy().astype(float))\n",
    "data.columns = [\"y\"]\n",
    "\n",
    "df = pd.DataFrame({'y':[0,0,0,0,0]},\n",
    "                   index = d)\n",
    "data = data.append(df)\n",
    "\n",
    "for i in range(6, 25):\n",
    "    data[\"lag_{}\".format(i)] = data.y.shift(i)\n",
    "\n",
    "from sklearn.linear_model import LinearRegression\n",
    "from sklearn.model_selection import cross_val_score\n",
    "\n",
    "y = data.dropna().y # 删除n/a的数据\n",
    "X = data.dropna().drop(['y'], axis=1)\n",
    "\n",
    "# 除去需要预测的5天\n",
    "train_index = int(len(X)) - 5\n",
    "X_train = X.iloc[:train_index]\n",
    "y_train = y.iloc[:train_index]\n",
    "\n",
    "# 机器学习\n",
    "lr = LinearRegression()\n",
    "lr.fit(X_train, y_train)\n",
    "prediction = lr.predict(X.tail(5))\n",
    "precentage = prediction.mean()\n",
    "print(prediction.mean())\n",
    "print(prediction)\n",
    "# plt.figure(figsize=(15, 7))\n",
    "# plt.plot(prediction, \"g\", label=\"prediction\", linewidth=2.0)\n"
   ]
  },
  {
   "cell_type": "code",
   "execution_count": 7,
   "metadata": {
    "collapsed": false
   },
   "outputs": [],
   "source": [
    "#储存数据到excel\n",
    "from openpyxl import load_workbook\n",
    "df = pd.DataFrame(prediction)\n",
    "df = df.values.T.tolist()\n",
    "stock_name = [str(stock)]\n",
    "wb = load_workbook('/Users/BartSu/Desktop/StockRS_Result.xlsx')\n",
    "ws = wb.worksheets[0]\n",
    "\n",
    "ws.append(stock_name)\n",
    "\n",
    "# Append 2 new Rows - Columns A - D\n",
    "for row_data in df:\n",
    "    # Append Row Values\n",
    "    ws.append(row_data)\n",
    "\n",
    "wb.save(\"/Users/BartSu/Desktop/StockRS_Result.xlsx\")"
   ]
  },
  {
   "cell_type": "code",
   "execution_count": 8,
   "metadata": {
    "collapsed": true
   },
   "outputs": [],
   "source": []
  }
 ],
 "metadata": {
  "kernelspec": {
   "display_name": "Python 3",
   "language": "python",
   "name": "python3"
  },
  "language_info": {
   "codemirror_mode": {
    "name": "ipython",
    "version": 3
   },
   "file_extension": ".py",
   "mimetype": "text/x-python",
   "name": "python",
   "nbconvert_exporter": "python",
   "pygments_lexer": "ipython3",
   "version": "3.6.0"
  }
 },
 "nbformat": 4,
 "nbformat_minor": 2
}
