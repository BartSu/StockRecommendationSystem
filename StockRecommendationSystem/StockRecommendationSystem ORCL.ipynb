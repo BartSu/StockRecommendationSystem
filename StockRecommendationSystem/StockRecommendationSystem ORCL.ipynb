{
 "cells": [
  {
   "cell_type": "code",
   "execution_count": 1,
   "metadata": {
    "collapsed": true
   },
   "outputs": [],
   "source": [
    "stock = 'ORCL'\n",
    "days_back = 100"
   ]
  },
  {
   "cell_type": "code",
   "execution_count": 2,
   "metadata": {
    "collapsed": true
   },
   "outputs": [],
   "source": [
    "import pandas as pd                              # 表格和数据处理\n",
    "import matplotlib.pyplot as plt                  # 绘图\n",
    "import seaborn as sns                            # 更多绘图功能\n",
    "import pandas_datareader.data as webdata\n",
    "\n",
    "from itertools import product                    # 一些有用的函数\n",
    "from tqdm import tqdm_notebook\n",
    "\n",
    "import datetime                                  # 日期函数\n",
    "\n",
    "import warnings                                  # 勿扰模式\n",
    "warnings.filterwarnings('ignore')\n",
    "\n",
    "%matplotlib inline"
   ]
  },
  {
   "cell_type": "code",
   "execution_count": 3,
   "metadata": {
    "collapsed": false
   },
   "outputs": [],
   "source": [
    "now = datetime.date.today()\n",
    "start = now - datetime.timedelta(days=days_back)\n",
    "# df = data.DataReader(stock, \"iex\", start=start, end=end)\n",
    "df = webdata.get_data_yahoo(stock, start=start, end=now)['Adj Close']"
   ]
  },
  {
   "cell_type": "code",
   "execution_count": 4,
   "metadata": {
    "collapsed": false
   },
   "outputs": [
    {
     "data": {
      "text/plain": [
       "Date\n",
       "2018-07-23    48.474823\n",
       "2018-07-24    48.474823\n",
       "2018-07-25    48.753704\n",
       "2018-07-26    48.674023\n",
       "2018-07-27    48.434986\n",
       "2018-07-30    47.538597\n",
       "2018-07-31    47.488796\n",
       "2018-08-01    47.160118\n",
       "2018-08-02    47.707916\n",
       "2018-08-03    48.275631\n",
       "2018-08-06    48.474823\n",
       "2018-08-07    48.285587\n",
       "2018-08-08    48.195950\n",
       "2018-08-09    48.345348\n",
       "2018-08-10    48.126228\n",
       "2018-08-13    47.817471\n",
       "2018-08-14    48.036591\n",
       "2018-08-15    47.648155\n",
       "2018-08-16    47.907112\n",
       "2018-08-17    48.166069\n",
       "2018-08-20    48.225826\n",
       "2018-08-21    48.215870\n",
       "2018-08-22    48.604305\n",
       "2018-08-23    48.763664\n",
       "2018-08-24    49.062458\n",
       "2018-08-27    49.132183\n",
       "2018-08-28    48.444946\n",
       "2018-08-29    48.693943\n",
       "2018-08-30    48.185989\n",
       "2018-08-31    48.385189\n",
       "                ...    \n",
       "2018-09-18    48.833382\n",
       "2018-09-19    49.231777\n",
       "2018-09-20    50.227768\n",
       "2018-09-21    50.895081\n",
       "2018-09-24    51.034523\n",
       "2018-09-25    51.512596\n",
       "2018-09-26    51.422958\n",
       "2018-09-27    51.482716\n",
       "2018-09-28    51.353237\n",
       "2018-10-01    51.592274\n",
       "2018-10-02    50.028568\n",
       "2018-10-03    49.550495\n",
       "2018-10-04    49.271618\n",
       "2018-10-05    49.152100\n",
       "2018-10-08    49.162060\n",
       "2018-10-09    48.674023\n",
       "2018-10-10    47.209919\n",
       "2018-10-11    46.592403\n",
       "2018-10-12    47.190002\n",
       "2018-10-15    47.119999\n",
       "2018-10-16    48.230000\n",
       "2018-10-17    47.860001\n",
       "2018-10-18    47.380001\n",
       "2018-10-19    47.590000\n",
       "2018-10-22    47.939999\n",
       "2018-10-23    47.990002\n",
       "2018-10-24    46.759998\n",
       "2018-10-25    47.959999\n",
       "2018-10-26    47.320000\n",
       "2018-10-29    47.020000\n",
       "Name: Adj Close, Length: 70, dtype: float64"
      ]
     },
     "execution_count": 4,
     "metadata": {},
     "output_type": "execute_result"
    }
   ],
   "source": [
    "df"
   ]
  },
  {
   "cell_type": "code",
   "execution_count": 5,
   "metadata": {
    "collapsed": false
   },
   "outputs": [],
   "source": [
    "# 需要预测的5天日期\n",
    "d = [None] * 5\n",
    "j = 0\n",
    "\n",
    "for i in range(0,7):\n",
    "    if (now + datetime.timedelta(i)).weekday() < 5:\n",
    "        d[j] = str(now + datetime.timedelta(i))\n",
    "        j = j + 1"
   ]
  },
  {
   "cell_type": "code",
   "execution_count": 6,
   "metadata": {
    "collapsed": false
   },
   "outputs": [
    {
     "name": "stdout",
     "output_type": "stream",
     "text": [
      "49.1962953296073\n",
      "[49.14781883 49.4281419  47.95005738 49.90925425 49.54620428]\n"
     ]
    }
   ],
   "source": [
    "#时序数据上的线性模型\n",
    "data = pd.DataFrame(df.copy().astype(float))\n",
    "data.columns = [\"y\"]\n",
    "\n",
    "df = pd.DataFrame({'y':[0,0,0,0,0]},\n",
    "                   index = d)\n",
    "data = data.append(df)\n",
    "\n",
    "for i in range(6, 25):\n",
    "    data[\"lag_{}\".format(i)] = data.y.shift(i)\n",
    "\n",
    "from sklearn.linear_model import LinearRegression\n",
    "from sklearn.model_selection import cross_val_score\n",
    "\n",
    "y = data.dropna().y # 删除n/a的数据\n",
    "X = data.dropna().drop(['y'], axis=1)\n",
    "\n",
    "# 除去需要预测的5天\n",
    "train_index = int(len(X)) - 5\n",
    "X_train = X.iloc[:train_index]\n",
    "y_train = y.iloc[:train_index]\n",
    "\n",
    "# 机器学习\n",
    "lr = LinearRegression()\n",
    "lr.fit(X_train, y_train)\n",
    "prediction = lr.predict(X.tail(5))\n",
    "precentage = prediction.mean()\n",
    "print(prediction.mean())\n",
    "print(prediction)\n",
    "# plt.figure(figsize=(15, 7))\n",
    "# plt.plot(prediction, \"g\", label=\"prediction\", linewidth=2.0)\n"
   ]
  },
  {
   "cell_type": "code",
   "execution_count": 7,
   "metadata": {
    "collapsed": false
   },
   "outputs": [],
   "source": [
    "#储存数据到excel\n",
    "from openpyxl import load_workbook\n",
    "df = pd.DataFrame(prediction)\n",
    "df = df.values.T.tolist()\n",
    "stock_name = [str(stock)]\n",
    "wb = load_workbook('/Users/BartSu/Desktop/StockRS_Result.xlsx')\n",
    "ws = wb.worksheets[0]\n",
    "\n",
    "ws.append(stock_name)\n",
    "\n",
    "# Append 2 new Rows - Columns A - D\n",
    "for row_data in df:\n",
    "    # Append Row Values\n",
    "    ws.append(row_data)\n",
    "\n",
    "wb.save(\"/Users/BartSu/Desktop/StockRS_Result.xlsx\")"
   ]
  }
 ],
 "metadata": {
  "kernelspec": {
   "display_name": "Python 3",
   "language": "python",
   "name": "python3"
  },
  "language_info": {
   "codemirror_mode": {
    "name": "ipython",
    "version": 3
   },
   "file_extension": ".py",
   "mimetype": "text/x-python",
   "name": "python",
   "nbconvert_exporter": "python",
   "pygments_lexer": "ipython3",
   "version": "3.6.0"
  }
 },
 "nbformat": 4,
 "nbformat_minor": 2
}
