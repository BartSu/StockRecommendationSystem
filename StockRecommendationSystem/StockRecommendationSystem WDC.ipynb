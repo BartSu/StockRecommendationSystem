{
 "cells": [
  {
   "cell_type": "code",
   "execution_count": 1,
   "metadata": {
    "collapsed": true
   },
   "outputs": [],
   "source": [
    "stock = 'WDC'\n",
    "days_back = 100"
   ]
  },
  {
   "cell_type": "code",
   "execution_count": 2,
   "metadata": {
    "collapsed": true
   },
   "outputs": [],
   "source": [
    "import pandas as pd                              # 表格和数据处理\n",
    "import matplotlib.pyplot as plt                  # 绘图\n",
    "import seaborn as sns                            # 更多绘图功能\n",
    "import pandas_datareader.data as webdata\n",
    "\n",
    "from itertools import product                    # 一些有用的函数\n",
    "from tqdm import tqdm_notebook\n",
    "\n",
    "import datetime                                  # 日期函数\n",
    "\n",
    "import warnings                                  # 勿扰模式\n",
    "warnings.filterwarnings('ignore')\n",
    "\n",
    "%matplotlib inline"
   ]
  },
  {
   "cell_type": "code",
   "execution_count": 3,
   "metadata": {
    "collapsed": false
   },
   "outputs": [],
   "source": [
    "now = datetime.date.today()\n",
    "start = now - datetime.timedelta(days=days_back)\n",
    "# df = data.DataReader(stock, \"iex\", start=start, end=end)\n",
    "df = webdata.get_data_yahoo(stock, start=start, end=now)['Adj Close']"
   ]
  },
  {
   "cell_type": "code",
   "execution_count": 4,
   "metadata": {
    "collapsed": false
   },
   "outputs": [
    {
     "data": {
      "text/plain": [
       "Date\n",
       "2018-07-20    75.989845\n",
       "2018-07-23    75.732048\n",
       "2018-07-24    74.472824\n",
       "2018-07-25    74.988411\n",
       "2018-07-26    76.436028\n",
       "2018-07-27    70.526588\n",
       "2018-07-30    69.435921\n",
       "2018-07-31    69.554901\n",
       "2018-08-01    68.642708\n",
       "2018-08-02    67.938728\n",
       "2018-08-03    67.383476\n",
       "2018-08-06    67.720596\n",
       "2018-08-07    67.175262\n",
       "2018-08-08    66.481201\n",
       "2018-08-09    65.549171\n",
       "2018-08-10    64.240372\n",
       "2018-08-13    63.675209\n",
       "2018-08-14    64.438675\n",
       "2018-08-15    63.407497\n",
       "2018-08-16    64.508080\n",
       "2018-08-17    64.081726\n",
       "2018-08-20    63.476902\n",
       "2018-08-21    64.339523\n",
       "2018-08-22    63.476902\n",
       "2018-08-23    62.812584\n",
       "2018-08-24    63.268688\n",
       "2018-08-27    63.923088\n",
       "2018-08-28    64.121391\n",
       "2018-08-29    62.852249\n",
       "2018-08-30    62.743179\n",
       "                ...    \n",
       "2018-09-17    56.694931\n",
       "2018-09-18    57.607124\n",
       "2018-09-19    57.894665\n",
       "2018-09-20    59.540581\n",
       "2018-09-21    60.204899\n",
       "2018-09-24    59.411682\n",
       "2018-09-25    59.173721\n",
       "2018-09-26    58.439999\n",
       "2018-09-27    58.279999\n",
       "2018-09-28    58.540001\n",
       "2018-10-01    58.020000\n",
       "2018-10-02    57.720001\n",
       "2018-10-03    58.360001\n",
       "2018-10-04    56.610001\n",
       "2018-10-05    56.150002\n",
       "2018-10-08    55.650002\n",
       "2018-10-09    54.419998\n",
       "2018-10-10    54.150002\n",
       "2018-10-11    54.130001\n",
       "2018-10-12    54.410000\n",
       "2018-10-15    54.500000\n",
       "2018-10-16    56.060001\n",
       "2018-10-17    55.759998\n",
       "2018-10-18    55.830002\n",
       "2018-10-19    56.540001\n",
       "2018-10-22    55.360001\n",
       "2018-10-23    55.660000\n",
       "2018-10-24    52.340000\n",
       "2018-10-25    54.009998\n",
       "2018-10-26    44.189999\n",
       "Name: Adj Close, Length: 70, dtype: float64"
      ]
     },
     "execution_count": 4,
     "metadata": {},
     "output_type": "execute_result"
    }
   ],
   "source": [
    "df"
   ]
  },
  {
   "cell_type": "code",
   "execution_count": 5,
   "metadata": {
    "collapsed": false
   },
   "outputs": [],
   "source": [
    "# 需要预测的5天日期\n",
    "d = [None] * 5\n",
    "j = 0\n",
    "\n",
    "for i in range(0,7):\n",
    "    if (now + datetime.timedelta(i)).weekday() < 5:\n",
    "        d[j] = str(now + datetime.timedelta(i))\n",
    "        j = j + 1"
   ]
  },
  {
   "cell_type": "code",
   "execution_count": 6,
   "metadata": {
    "collapsed": false
   },
   "outputs": [
    {
     "name": "stdout",
     "output_type": "stream",
     "text": [
      "54.83681240789632\n",
      "[55.81616457 54.6308188  54.42289789 54.67161663 54.64256415]\n"
     ]
    }
   ],
   "source": [
    "#时序数据上的线性模型\n",
    "data = pd.DataFrame(df.copy().astype(float))\n",
    "data.columns = [\"y\"]\n",
    "\n",
    "df = pd.DataFrame({'y':[0,0,0,0,0]},\n",
    "                   index = d)\n",
    "data = data.append(df)\n",
    "\n",
    "for i in range(6, 25):\n",
    "    data[\"lag_{}\".format(i)] = data.y.shift(i)\n",
    "\n",
    "from sklearn.linear_model import LinearRegression\n",
    "from sklearn.model_selection import cross_val_score\n",
    "\n",
    "y = data.dropna().y # 删除n/a的数据\n",
    "X = data.dropna().drop(['y'], axis=1)\n",
    "\n",
    "# 除去需要预测的5天\n",
    "train_index = int(len(X)) - 5\n",
    "X_train = X.iloc[:train_index]\n",
    "y_train = y.iloc[:train_index]\n",
    "\n",
    "# 机器学习\n",
    "lr = LinearRegression()\n",
    "lr.fit(X_train, y_train)\n",
    "prediction = lr.predict(X.tail(5))\n",
    "precentage = prediction.mean()\n",
    "print(prediction.mean())\n",
    "print(prediction)\n",
    "# plt.figure(figsize=(15, 7))\n",
    "# plt.plot(prediction, \"g\", label=\"prediction\", linewidth=2.0)\n"
   ]
  },
  {
   "cell_type": "code",
   "execution_count": 7,
   "metadata": {
    "collapsed": false
   },
   "outputs": [],
   "source": [
    "#储存数据到excel\n",
    "from openpyxl import load_workbook\n",
    "df = pd.DataFrame(prediction)\n",
    "df = df.values.T.tolist()\n",
    "stock_name = [str(stock)]\n",
    "wb = load_workbook('/Users/BartSu/Desktop/StockRS_Result.xlsx')\n",
    "ws = wb.worksheets[0]\n",
    "\n",
    "ws.append(stock_name)\n",
    "\n",
    "# Append 2 new Rows - Columns A - D\n",
    "for row_data in df:\n",
    "    # Append Row Values\n",
    "    ws.append(row_data)\n",
    "\n",
    "wb.save(\"/Users/BartSu/Desktop/StockRS_Result.xlsx\")"
   ]
  },
  {
   "cell_type": "code",
   "execution_count": 8,
   "metadata": {
    "collapsed": true
   },
   "outputs": [],
   "source": []
  }
 ],
 "metadata": {
  "kernelspec": {
   "display_name": "Python 3",
   "language": "python",
   "name": "python3"
  },
  "language_info": {
   "codemirror_mode": {
    "name": "ipython",
    "version": 3
   },
   "file_extension": ".py",
   "mimetype": "text/x-python",
   "name": "python",
   "nbconvert_exporter": "python",
   "pygments_lexer": "ipython3",
   "version": "3.6.0"
  }
 },
 "nbformat": 4,
 "nbformat_minor": 2
}
