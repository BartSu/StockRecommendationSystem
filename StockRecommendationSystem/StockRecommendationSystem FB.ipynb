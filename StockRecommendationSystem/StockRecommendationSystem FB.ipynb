{
 "cells": [
  {
   "cell_type": "code",
   "execution_count": 1,
   "metadata": {
    "collapsed": true
   },
   "outputs": [],
   "source": [
    "stock = 'FB'\n",
    "days_back = 100"
   ]
  },
  {
   "cell_type": "code",
   "execution_count": 2,
   "metadata": {
    "collapsed": true
   },
   "outputs": [],
   "source": [
    "import pandas as pd                              # 表格和数据处理\n",
    "import matplotlib.pyplot as plt                  # 绘图\n",
    "import seaborn as sns                            # 更多绘图功能\n",
    "import pandas_datareader.data as webdata\n",
    "\n",
    "from itertools import product                    # 一些有用的函数\n",
    "from tqdm import tqdm_notebook\n",
    "\n",
    "import datetime                                  # 日期函数\n",
    "\n",
    "import warnings                                  # 勿扰模式\n",
    "warnings.filterwarnings('ignore')\n",
    "\n",
    "%matplotlib inline"
   ]
  },
  {
   "cell_type": "code",
   "execution_count": 3,
   "metadata": {
    "collapsed": false
   },
   "outputs": [],
   "source": [
    "now = datetime.date.today()\n",
    "start = now - datetime.timedelta(days=days_back)\n",
    "# df = data.DataReader(stock, \"iex\", start=start, end=end)\n",
    "df = webdata.get_data_yahoo(stock, start=start, end=now)['Adj Close']"
   ]
  },
  {
   "cell_type": "code",
   "execution_count": 4,
   "metadata": {
    "collapsed": false
   },
   "outputs": [
    {
     "data": {
      "text/plain": [
       "Date\n",
       "2018-07-20    209.940002\n",
       "2018-07-23    210.910004\n",
       "2018-07-24    214.669998\n",
       "2018-07-25    217.500000\n",
       "2018-07-26    176.259995\n",
       "2018-07-27    174.889999\n",
       "2018-07-30    171.059998\n",
       "2018-07-31    172.580002\n",
       "2018-08-01    171.649994\n",
       "2018-08-02    176.369995\n",
       "2018-08-03    177.779999\n",
       "2018-08-06    185.690002\n",
       "2018-08-07    183.809998\n",
       "2018-08-08    185.179993\n",
       "2018-08-09    183.089996\n",
       "2018-08-10    180.259995\n",
       "2018-08-13    180.050003\n",
       "2018-08-14    181.110001\n",
       "2018-08-15    179.529999\n",
       "2018-08-16    174.699997\n",
       "2018-08-17    173.800003\n",
       "2018-08-20    172.500000\n",
       "2018-08-21    172.619995\n",
       "2018-08-22    173.639999\n",
       "2018-08-23    172.899994\n",
       "2018-08-24    174.649994\n",
       "2018-08-27    177.460007\n",
       "2018-08-28    176.259995\n",
       "2018-08-29    175.899994\n",
       "2018-08-30    177.639999\n",
       "                 ...    \n",
       "2018-09-17    160.580002\n",
       "2018-09-18    160.300003\n",
       "2018-09-19    163.059998\n",
       "2018-09-20    166.020004\n",
       "2018-09-21    162.929993\n",
       "2018-09-24    165.410004\n",
       "2018-09-25    164.910004\n",
       "2018-09-26    166.949997\n",
       "2018-09-27    168.839996\n",
       "2018-09-28    164.460007\n",
       "2018-10-01    162.440002\n",
       "2018-10-02    159.330002\n",
       "2018-10-03    162.429993\n",
       "2018-10-04    158.850006\n",
       "2018-10-05    157.330002\n",
       "2018-10-08    157.250000\n",
       "2018-10-09    157.899994\n",
       "2018-10-10    151.380005\n",
       "2018-10-11    153.350006\n",
       "2018-10-12    153.740005\n",
       "2018-10-15    153.520004\n",
       "2018-10-16    158.779999\n",
       "2018-10-17    159.419998\n",
       "2018-10-18    154.919998\n",
       "2018-10-19    154.050003\n",
       "2018-10-22    154.779999\n",
       "2018-10-23    154.389999\n",
       "2018-10-24    146.039993\n",
       "2018-10-25    150.949997\n",
       "2018-10-26    145.369995\n",
       "Name: Adj Close, Length: 70, dtype: float64"
      ]
     },
     "execution_count": 4,
     "metadata": {},
     "output_type": "execute_result"
    }
   ],
   "source": [
    "df"
   ]
  },
  {
   "cell_type": "code",
   "execution_count": 5,
   "metadata": {
    "collapsed": false
   },
   "outputs": [],
   "source": [
    "# 需要预测的5天日期\n",
    "d = [None] * 5\n",
    "j = 0\n",
    "\n",
    "for i in range(0,7):\n",
    "    if (now + datetime.timedelta(i)).weekday() < 5:\n",
    "        d[j] = str(now + datetime.timedelta(i))\n",
    "        j = j + 1"
   ]
  },
  {
   "cell_type": "code",
   "execution_count": 6,
   "metadata": {
    "collapsed": false
   },
   "outputs": [
    {
     "name": "stdout",
     "output_type": "stream",
     "text": [
      "149.57032766729114\n",
      "[150.39443142 151.1908898  151.24515573 146.18617002 148.83499136]\n"
     ]
    }
   ],
   "source": [
    "#时序数据上的线性模型\n",
    "data = pd.DataFrame(df.copy().astype(float))\n",
    "data.columns = [\"y\"]\n",
    "\n",
    "df = pd.DataFrame({'y':[0,0,0,0,0]},\n",
    "                   index = d)\n",
    "data = data.append(df)\n",
    "\n",
    "for i in range(6, 25):\n",
    "    data[\"lag_{}\".format(i)] = data.y.shift(i)\n",
    "\n",
    "from sklearn.linear_model import LinearRegression\n",
    "from sklearn.model_selection import cross_val_score\n",
    "\n",
    "y = data.dropna().y # 删除n/a的数据\n",
    "X = data.dropna().drop(['y'], axis=1)\n",
    "\n",
    "# 除去需要预测的5天\n",
    "train_index = int(len(X)) - 5\n",
    "X_train = X.iloc[:train_index]\n",
    "y_train = y.iloc[:train_index]\n",
    "\n",
    "# 机器学习\n",
    "lr = LinearRegression()\n",
    "lr.fit(X_train, y_train)\n",
    "prediction = lr.predict(X.tail(5))\n",
    "precentage = prediction.mean()\n",
    "print(prediction.mean())\n",
    "print(prediction)\n",
    "# plt.figure(figsize=(15, 7))\n",
    "# plt.plot(prediction, \"g\", label=\"prediction\", linewidth=2.0)\n"
   ]
  },
  {
   "cell_type": "code",
   "execution_count": 7,
   "metadata": {
    "collapsed": false
   },
   "outputs": [],
   "source": [
    "#储存数据到excel\n",
    "from openpyxl import load_workbook\n",
    "df = pd.DataFrame(prediction)\n",
    "df = df.values.T.tolist()\n",
    "stock_name = [str(stock)]\n",
    "wb = load_workbook('/Users/BartSu/Desktop/StockRS_Result.xlsx')\n",
    "ws = wb.worksheets[0]\n",
    "\n",
    "ws.append(stock_name)\n",
    "\n",
    "# Append 2 new Rows - Columns A - D\n",
    "for row_data in df:\n",
    "    # Append Row Values\n",
    "    ws.append(row_data)\n",
    "\n",
    "wb.save(\"/Users/BartSu/Desktop/StockRS_Result.xlsx\")"
   ]
  },
  {
   "cell_type": "code",
   "execution_count": 8,
   "metadata": {
    "collapsed": true
   },
   "outputs": [],
   "source": []
  }
 ],
 "metadata": {
  "kernelspec": {
   "display_name": "Python 3",
   "language": "python",
   "name": "python3"
  },
  "language_info": {
   "codemirror_mode": {
    "name": "ipython",
    "version": 3
   },
   "file_extension": ".py",
   "mimetype": "text/x-python",
   "name": "python",
   "nbconvert_exporter": "python",
   "pygments_lexer": "ipython3",
   "version": "3.6.0"
  }
 },
 "nbformat": 4,
 "nbformat_minor": 2
}
