{
 "cells": [
  {
   "cell_type": "code",
   "execution_count": 1,
   "metadata": {
    "collapsed": true
   },
   "outputs": [],
   "source": [
    "stock = 'INTC'\n",
    "days_back = 100"
   ]
  },
  {
   "cell_type": "code",
   "execution_count": 2,
   "metadata": {
    "collapsed": true
   },
   "outputs": [],
   "source": [
    "import pandas as pd                              # 表格和数据处理\n",
    "import matplotlib.pyplot as plt                  # 绘图\n",
    "import seaborn as sns                            # 更多绘图功能\n",
    "import pandas_datareader.data as webdata\n",
    "\n",
    "from itertools import product                    # 一些有用的函数\n",
    "from tqdm import tqdm_notebook\n",
    "\n",
    "import datetime                                  # 日期函数\n",
    "\n",
    "import warnings                                  # 勿扰模式\n",
    "warnings.filterwarnings('ignore')\n",
    "\n",
    "%matplotlib inline"
   ]
  },
  {
   "cell_type": "code",
   "execution_count": 3,
   "metadata": {
    "collapsed": false
   },
   "outputs": [],
   "source": [
    "now = datetime.date.today()\n",
    "start = now - datetime.timedelta(days=days_back)\n",
    "# df = data.DataReader(stock, \"iex\", start=start, end=end)\n",
    "df = webdata.get_data_yahoo(stock, start=start, end=now)['Adj Close']"
   ]
  },
  {
   "cell_type": "code",
   "execution_count": 4,
   "metadata": {
    "collapsed": false
   },
   "outputs": [
    {
     "data": {
      "text/plain": [
       "Date\n",
       "2018-07-20    51.596218\n",
       "2018-07-23    51.993801\n",
       "2018-07-24    51.864586\n",
       "2018-07-25    52.113075\n",
       "2018-07-26    51.844707\n",
       "2018-07-27    47.391788\n",
       "2018-07-30    47.401726\n",
       "2018-07-31    47.809246\n",
       "2018-08-01    48.514957\n",
       "2018-08-02    49.180904\n",
       "2018-08-03    49.330002\n",
       "2018-08-06    49.299999\n",
       "2018-08-07    49.700001\n",
       "2018-08-08    49.959999\n",
       "2018-08-09    50.139999\n",
       "2018-08-10    48.849998\n",
       "2018-08-13    48.450001\n",
       "2018-08-14    48.119999\n",
       "2018-08-15    47.459999\n",
       "2018-08-16    47.169998\n",
       "2018-08-17    47.099998\n",
       "2018-08-20    46.500000\n",
       "2018-08-21    47.619999\n",
       "2018-08-22    47.049999\n",
       "2018-08-23    46.980000\n",
       "2018-08-24    47.660000\n",
       "2018-08-27    48.349998\n",
       "2018-08-28    48.570000\n",
       "2018-08-29    48.750000\n",
       "2018-08-30    48.240002\n",
       "                ...    \n",
       "2018-09-17    45.419998\n",
       "2018-09-18    46.099998\n",
       "2018-09-19    46.150002\n",
       "2018-09-20    47.200001\n",
       "2018-09-21    46.660000\n",
       "2018-09-24    46.910000\n",
       "2018-09-25    45.910000\n",
       "2018-09-26    45.700001\n",
       "2018-09-27    45.880001\n",
       "2018-09-28    47.290001\n",
       "2018-10-01    46.450001\n",
       "2018-10-02    48.099998\n",
       "2018-10-03    48.759998\n",
       "2018-10-04    48.130001\n",
       "2018-10-05    47.029999\n",
       "2018-10-08    47.029999\n",
       "2018-10-09    46.549999\n",
       "2018-10-10    44.799999\n",
       "2018-10-11    44.230000\n",
       "2018-10-12    44.880001\n",
       "2018-10-15    44.529999\n",
       "2018-10-16    45.939999\n",
       "2018-10-17    45.889999\n",
       "2018-10-18    44.970001\n",
       "2018-10-19    44.000000\n",
       "2018-10-22    45.009998\n",
       "2018-10-23    44.500000\n",
       "2018-10-24    42.419998\n",
       "2018-10-25    44.310001\n",
       "2018-10-26    45.689999\n",
       "Name: Adj Close, Length: 70, dtype: float64"
      ]
     },
     "execution_count": 4,
     "metadata": {},
     "output_type": "execute_result"
    }
   ],
   "source": [
    "df"
   ]
  },
  {
   "cell_type": "code",
   "execution_count": 5,
   "metadata": {
    "collapsed": false
   },
   "outputs": [],
   "source": [
    "# 需要预测的5天日期\n",
    "d = [None] * 5\n",
    "j = 0\n",
    "\n",
    "for i in range(0,7):\n",
    "    if (now + datetime.timedelta(i)).weekday() < 5:\n",
    "        d[j] = str(now + datetime.timedelta(i))\n",
    "        j = j + 1"
   ]
  },
  {
   "cell_type": "code",
   "execution_count": 6,
   "metadata": {
    "collapsed": false
   },
   "outputs": [
    {
     "name": "stdout",
     "output_type": "stream",
     "text": [
      "47.22277292576102\n",
      "[46.81709813 47.30954534 47.99042693 48.41705919 45.57973504]\n"
     ]
    }
   ],
   "source": [
    "#时序数据上的线性模型\n",
    "data = pd.DataFrame(df.copy().astype(float))\n",
    "data.columns = [\"y\"]\n",
    "\n",
    "df = pd.DataFrame({'y':[0,0,0,0,0]},\n",
    "                   index = d)\n",
    "data = data.append(df)\n",
    "\n",
    "for i in range(6, 25):\n",
    "    data[\"lag_{}\".format(i)] = data.y.shift(i)\n",
    "\n",
    "from sklearn.linear_model import LinearRegression\n",
    "from sklearn.model_selection import cross_val_score\n",
    "\n",
    "y = data.dropna().y # 删除n/a的数据\n",
    "X = data.dropna().drop(['y'], axis=1)\n",
    "\n",
    "# 除去需要预测的5天\n",
    "train_index = int(len(X)) - 5\n",
    "X_train = X.iloc[:train_index]\n",
    "y_train = y.iloc[:train_index]\n",
    "\n",
    "# 机器学习\n",
    "lr = LinearRegression()\n",
    "lr.fit(X_train, y_train)\n",
    "prediction = lr.predict(X.tail(5))\n",
    "precentage = prediction.mean()\n",
    "print(prediction.mean())\n",
    "print(prediction)\n",
    "# plt.figure(figsize=(15, 7))\n",
    "# plt.plot(prediction, \"g\", label=\"prediction\", linewidth=2.0)\n"
   ]
  },
  {
   "cell_type": "code",
   "execution_count": 7,
   "metadata": {
    "collapsed": false
   },
   "outputs": [],
   "source": [
    "#储存数据到excel\n",
    "from openpyxl import load_workbook\n",
    "df = pd.DataFrame(prediction)\n",
    "df = df.values.T.tolist()\n",
    "stock_name = [str(stock)]\n",
    "wb = load_workbook('/Users/BartSu/Desktop/StockRS_Result.xlsx')\n",
    "ws = wb.worksheets[0]\n",
    "\n",
    "ws.append(stock_name)\n",
    "\n",
    "# Append 2 new Rows - Columns A - D\n",
    "for row_data in df:\n",
    "    # Append Row Values\n",
    "    ws.append(row_data)\n",
    "\n",
    "wb.save(\"/Users/BartSu/Desktop/StockRS_Result.xlsx\")"
   ]
  },
  {
   "cell_type": "code",
   "execution_count": 8,
   "metadata": {
    "collapsed": true
   },
   "outputs": [],
   "source": []
  }
 ],
 "metadata": {
  "kernelspec": {
   "display_name": "Python 3",
   "language": "python",
   "name": "python3"
  },
  "language_info": {
   "codemirror_mode": {
    "name": "ipython",
    "version": 3
   },
   "file_extension": ".py",
   "mimetype": "text/x-python",
   "name": "python",
   "nbconvert_exporter": "python",
   "pygments_lexer": "ipython3",
   "version": "3.6.0"
  }
 },
 "nbformat": 4,
 "nbformat_minor": 2
}
