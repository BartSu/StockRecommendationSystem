{
 "cells": [
  {
   "cell_type": "code",
   "execution_count": 1,
   "metadata": {
    "collapsed": true
   },
   "outputs": [],
   "source": [
    "stock = 'AMD'\n",
    "days_back = 100"
   ]
  },
  {
   "cell_type": "code",
   "execution_count": 2,
   "metadata": {
    "collapsed": true
   },
   "outputs": [],
   "source": [
    "import pandas as pd                              # 表格和数据处理\n",
    "import matplotlib.pyplot as plt                  # 绘图\n",
    "import seaborn as sns                            # 更多绘图功能\n",
    "import pandas_datareader.data as webdata\n",
    "\n",
    "from itertools import product                    # 一些有用的函数\n",
    "from tqdm import tqdm_notebook\n",
    "\n",
    "import datetime                                  # 日期函数\n",
    "\n",
    "import warnings                                  # 勿扰模式\n",
    "warnings.filterwarnings('ignore')\n",
    "\n",
    "%matplotlib inline"
   ]
  },
  {
   "cell_type": "code",
   "execution_count": 3,
   "metadata": {
    "collapsed": false
   },
   "outputs": [],
   "source": [
    "now = datetime.date.today()\n",
    "start = now - datetime.timedelta(days=days_back)\n",
    "# df = data.DataReader(stock, \"iex\", start=start, end=end)\n",
    "df = webdata.get_data_yahoo(stock, start=start, end=now)['Adj Close']"
   ]
  },
  {
   "cell_type": "code",
   "execution_count": 4,
   "metadata": {
    "collapsed": false
   },
   "outputs": [
    {
     "data": {
      "text/plain": [
       "Date\n",
       "2018-07-23    16.660000\n",
       "2018-07-24    16.190001\n",
       "2018-07-25    16.049999\n",
       "2018-07-26    18.350000\n",
       "2018-07-27    18.940001\n",
       "2018-07-30    19.420000\n",
       "2018-07-31    18.330000\n",
       "2018-08-01    18.480000\n",
       "2018-08-02    18.790001\n",
       "2018-08-03    18.490000\n",
       "2018-08-06    19.430000\n",
       "2018-08-07    19.559999\n",
       "2018-08-08    19.580000\n",
       "2018-08-09    19.100000\n",
       "2018-08-10    19.059999\n",
       "2018-08-13    19.730000\n",
       "2018-08-14    20.020000\n",
       "2018-08-15    19.700001\n",
       "2018-08-16    19.330000\n",
       "2018-08-17    19.770000\n",
       "2018-08-20    19.980000\n",
       "2018-08-21    20.400000\n",
       "2018-08-22    20.900000\n",
       "2018-08-23    22.290001\n",
       "2018-08-24    23.980000\n",
       "2018-08-27    25.260000\n",
       "2018-08-28    25.049999\n",
       "2018-08-29    25.200001\n",
       "2018-08-30    24.889999\n",
       "2018-08-31    25.170000\n",
       "                ...    \n",
       "2018-09-18    31.930000\n",
       "2018-09-19    31.209999\n",
       "2018-09-20    31.180000\n",
       "2018-09-21    31.020000\n",
       "2018-09-24    32.610001\n",
       "2018-09-25    32.570000\n",
       "2018-09-26    32.189999\n",
       "2018-09-27    32.590000\n",
       "2018-09-28    30.889999\n",
       "2018-10-01    31.420000\n",
       "2018-10-02    29.020000\n",
       "2018-10-03    28.430000\n",
       "2018-10-04    27.780001\n",
       "2018-10-05    27.350000\n",
       "2018-10-08    26.459999\n",
       "2018-10-09    27.240000\n",
       "2018-10-10    25.000000\n",
       "2018-10-11    25.299999\n",
       "2018-10-12    26.340000\n",
       "2018-10-15    26.260000\n",
       "2018-10-16    28.180000\n",
       "2018-10-17    27.299999\n",
       "2018-10-18    26.620001\n",
       "2018-10-19    23.660000\n",
       "2018-10-22    25.030001\n",
       "2018-10-23    25.090000\n",
       "2018-10-24    22.790001\n",
       "2018-10-25    19.270000\n",
       "2018-10-26    17.629999\n",
       "2018-10-29    16.850000\n",
       "Name: Adj Close, Length: 70, dtype: float64"
      ]
     },
     "execution_count": 4,
     "metadata": {},
     "output_type": "execute_result"
    }
   ],
   "source": [
    "df"
   ]
  },
  {
   "cell_type": "code",
   "execution_count": 5,
   "metadata": {
    "collapsed": false
   },
   "outputs": [],
   "source": [
    "# 需要预测的5天日期\n",
    "d = [None] * 5\n",
    "j = 0\n",
    "\n",
    "for i in range(0,7):\n",
    "    if (now + datetime.timedelta(i)).weekday() < 5:\n",
    "        d[j] = str(now + datetime.timedelta(i))\n",
    "        j = j + 1"
   ]
  },
  {
   "cell_type": "code",
   "execution_count": 6,
   "metadata": {
    "collapsed": false
   },
   "outputs": [
    {
     "name": "stdout",
     "output_type": "stream",
     "text": [
      "23.506735757824238\n",
      "[24.4078026  25.3958036  21.87920804 24.09160308 21.75926148]\n"
     ]
    }
   ],
   "source": [
    "#时序数据上的线性模型\n",
    "data = pd.DataFrame(df.copy().astype(float))\n",
    "data.columns = [\"y\"]\n",
    "\n",
    "df = pd.DataFrame({'y':[0,0,0,0,0]},\n",
    "                   index = d)\n",
    "data = data.append(df)\n",
    "\n",
    "for i in range(6, 25):\n",
    "    data[\"lag_{}\".format(i)] = data.y.shift(i)\n",
    "\n",
    "from sklearn.linear_model import LinearRegression\n",
    "from sklearn.model_selection import cross_val_score\n",
    "\n",
    "y = data.dropna().y # 删除n/a的数据\n",
    "X = data.dropna().drop(['y'], axis=1)\n",
    "\n",
    "# 除去需要预测的5天\n",
    "train_index = int(len(X)) - 5\n",
    "X_train = X.iloc[:train_index]\n",
    "y_train = y.iloc[:train_index]\n",
    "\n",
    "# 机器学习\n",
    "lr = LinearRegression()\n",
    "lr.fit(X_train, y_train)\n",
    "prediction = lr.predict(X.tail(5))\n",
    "precentage = prediction.mean()\n",
    "print(prediction.mean())\n",
    "print(prediction)\n",
    "# plt.figure(figsize=(15, 7))\n",
    "# plt.plot(prediction, \"g\", label=\"prediction\", linewidth=2.0)\n"
   ]
  },
  {
   "cell_type": "code",
   "execution_count": 7,
   "metadata": {
    "collapsed": false
   },
   "outputs": [],
   "source": [
    "#储存数据到excel\n",
    "from openpyxl import load_workbook\n",
    "df = pd.DataFrame(prediction)\n",
    "df = df.values.T.tolist()\n",
    "stock_name = [str(stock)]\n",
    "wb = load_workbook('/Users/BartSu/Desktop/StockRS_Result.xlsx')\n",
    "ws = wb.worksheets[0]\n",
    "\n",
    "ws.append(stock_name)\n",
    "\n",
    "# Append 2 new Rows - Columns A - D\n",
    "for row_data in df:\n",
    "    # Append Row Values\n",
    "    ws.append(row_data)\n",
    "\n",
    "wb.save(\"/Users/BartSu/Desktop/StockRS_Result.xlsx\")"
   ]
  }
 ],
 "metadata": {
  "kernelspec": {
   "display_name": "Python 3",
   "language": "python",
   "name": "python3"
  },
  "language_info": {
   "codemirror_mode": {
    "name": "ipython",
    "version": 3
   },
   "file_extension": ".py",
   "mimetype": "text/x-python",
   "name": "python",
   "nbconvert_exporter": "python",
   "pygments_lexer": "ipython3",
   "version": "3.6.0"
  }
 },
 "nbformat": 4,
 "nbformat_minor": 2
}
