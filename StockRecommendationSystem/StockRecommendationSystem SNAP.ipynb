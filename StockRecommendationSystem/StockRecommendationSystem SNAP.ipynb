{
 "cells": [
  {
   "cell_type": "code",
   "execution_count": 1,
   "metadata": {
    "collapsed": true
   },
   "outputs": [],
   "source": [
    "stock = 'SNAP'\n",
    "days_back = 100"
   ]
  },
  {
   "cell_type": "code",
   "execution_count": 2,
   "metadata": {
    "collapsed": true
   },
   "outputs": [],
   "source": [
    "import pandas as pd                              # 表格和数据处理\n",
    "import matplotlib.pyplot as plt                  # 绘图\n",
    "import seaborn as sns                            # 更多绘图功能\n",
    "import pandas_datareader.data as webdata\n",
    "\n",
    "from itertools import product                    # 一些有用的函数\n",
    "from tqdm import tqdm_notebook\n",
    "\n",
    "import datetime                                  # 日期函数\n",
    "\n",
    "import warnings                                  # 勿扰模式\n",
    "warnings.filterwarnings('ignore')\n",
    "\n",
    "%matplotlib inline"
   ]
  },
  {
   "cell_type": "code",
   "execution_count": 3,
   "metadata": {
    "collapsed": false
   },
   "outputs": [],
   "source": [
    "now = datetime.date.today()\n",
    "start = now - datetime.timedelta(days=days_back)\n",
    "# df = data.DataReader(stock, \"iex\", start=start, end=end)\n",
    "df = webdata.get_data_yahoo(stock, start=start, end=now)['Adj Close']"
   ]
  },
  {
   "cell_type": "code",
   "execution_count": 4,
   "metadata": {
    "collapsed": false
   },
   "outputs": [
    {
     "data": {
      "text/plain": [
       "Date\n",
       "2018-07-23    13.39\n",
       "2018-07-24    13.14\n",
       "2018-07-25    13.39\n",
       "2018-07-26    13.37\n",
       "2018-07-27    12.83\n",
       "2018-07-30    12.27\n",
       "2018-07-31    12.50\n",
       "2018-08-01    12.38\n",
       "2018-08-02    12.70\n",
       "2018-08-03    12.73\n",
       "2018-08-06    13.05\n",
       "2018-08-07    13.12\n",
       "2018-08-08    12.23\n",
       "2018-08-09    12.31\n",
       "2018-08-10    12.31\n",
       "2018-08-13    12.57\n",
       "2018-08-14    12.34\n",
       "2018-08-15    12.18\n",
       "2018-08-16    12.17\n",
       "2018-08-17    11.89\n",
       "2018-08-20    11.73\n",
       "2018-08-21    11.44\n",
       "2018-08-22    11.44\n",
       "2018-08-23    11.40\n",
       "2018-08-24    11.63\n",
       "2018-08-27    11.81\n",
       "2018-08-28    11.29\n",
       "2018-08-29    11.17\n",
       "2018-08-30    11.08\n",
       "2018-08-31    10.90\n",
       "              ...  \n",
       "2018-09-18     9.13\n",
       "2018-09-19     9.16\n",
       "2018-09-20     9.21\n",
       "2018-09-21     9.14\n",
       "2018-09-24     8.95\n",
       "2018-09-25     9.05\n",
       "2018-09-26     8.99\n",
       "2018-09-27     8.80\n",
       "2018-09-28     8.48\n",
       "2018-10-01     8.36\n",
       "2018-10-02     8.18\n",
       "2018-10-03     8.23\n",
       "2018-10-04     7.80\n",
       "2018-10-05     7.77\n",
       "2018-10-08     7.48\n",
       "2018-10-09     7.00\n",
       "2018-10-10     6.59\n",
       "2018-10-11     6.81\n",
       "2018-10-12     7.18\n",
       "2018-10-15     7.40\n",
       "2018-10-16     7.25\n",
       "2018-10-17     7.06\n",
       "2018-10-18     6.81\n",
       "2018-10-19     6.81\n",
       "2018-10-22     6.84\n",
       "2018-10-23     6.82\n",
       "2018-10-24     6.59\n",
       "2018-10-25     6.99\n",
       "2018-10-26     6.28\n",
       "2018-10-29     5.99\n",
       "Name: Adj Close, Length: 70, dtype: float64"
      ]
     },
     "execution_count": 4,
     "metadata": {},
     "output_type": "execute_result"
    }
   ],
   "source": [
    "df"
   ]
  },
  {
   "cell_type": "code",
   "execution_count": 5,
   "metadata": {
    "collapsed": false
   },
   "outputs": [],
   "source": [
    "# 需要预测的5天日期\n",
    "d = [None] * 5\n",
    "j = 0\n",
    "\n",
    "for i in range(0,7):\n",
    "    if (now + datetime.timedelta(i)).weekday() < 5:\n",
    "        d[j] = str(now + datetime.timedelta(i))\n",
    "        j = j + 1"
   ]
  },
  {
   "cell_type": "code",
   "execution_count": 6,
   "metadata": {
    "collapsed": false
   },
   "outputs": [
    {
     "name": "stdout",
     "output_type": "stream",
     "text": [
      "5.433292385142205\n",
      "[5.60453004 5.4480085  5.25425888 5.58162389 5.2780406 ]\n"
     ]
    }
   ],
   "source": [
    "#时序数据上的线性模型\n",
    "data = pd.DataFrame(df.copy().astype(float))\n",
    "data.columns = [\"y\"]\n",
    "\n",
    "df = pd.DataFrame({'y':[0,0,0,0,0]},\n",
    "                   index = d)\n",
    "data = data.append(df)\n",
    "\n",
    "for i in range(6, 25):\n",
    "    data[\"lag_{}\".format(i)] = data.y.shift(i)\n",
    "\n",
    "from sklearn.linear_model import LinearRegression\n",
    "from sklearn.model_selection import cross_val_score\n",
    "\n",
    "y = data.dropna().y # 删除n/a的数据\n",
    "X = data.dropna().drop(['y'], axis=1)\n",
    "\n",
    "# 除去需要预测的5天\n",
    "train_index = int(len(X)) - 5\n",
    "X_train = X.iloc[:train_index]\n",
    "y_train = y.iloc[:train_index]\n",
    "\n",
    "# 机器学习\n",
    "lr = LinearRegression()\n",
    "lr.fit(X_train, y_train)\n",
    "prediction = lr.predict(X.tail(5))\n",
    "precentage = prediction.mean()\n",
    "print(prediction.mean())\n",
    "print(prediction)\n",
    "# plt.figure(figsize=(15, 7))\n",
    "# plt.plot(prediction, \"g\", label=\"prediction\", linewidth=2.0)\n"
   ]
  },
  {
   "cell_type": "code",
   "execution_count": 7,
   "metadata": {
    "collapsed": false
   },
   "outputs": [],
   "source": [
    "#储存数据到excel\n",
    "from openpyxl import load_workbook\n",
    "df = pd.DataFrame(prediction)\n",
    "df = df.values.T.tolist()\n",
    "stock_name = [str(stock)]\n",
    "wb = load_workbook('/Users/BartSu/Desktop/StockRS_Result.xlsx')\n",
    "ws = wb.worksheets[0]\n",
    "\n",
    "ws.append(stock_name)\n",
    "\n",
    "# Append 2 new Rows - Columns A - D\n",
    "for row_data in df:\n",
    "    # Append Row Values\n",
    "    ws.append(row_data)\n",
    "\n",
    "wb.save(\"/Users/BartSu/Desktop/StockRS_Result.xlsx\")"
   ]
  }
 ],
 "metadata": {
  "kernelspec": {
   "display_name": "Python 3",
   "language": "python",
   "name": "python3"
  },
  "language_info": {
   "codemirror_mode": {
    "name": "ipython",
    "version": 3
   },
   "file_extension": ".py",
   "mimetype": "text/x-python",
   "name": "python",
   "nbconvert_exporter": "python",
   "pygments_lexer": "ipython3",
   "version": "3.6.0"
  }
 },
 "nbformat": 4,
 "nbformat_minor": 2
}
