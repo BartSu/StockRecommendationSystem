{
 "cells": [
  {
   "cell_type": "code",
   "execution_count": 1,
   "metadata": {
    "collapsed": true
   },
   "outputs": [],
   "source": [
    "stock = 'MSFT'\n",
    "days_back = 100"
   ]
  },
  {
   "cell_type": "code",
   "execution_count": 2,
   "metadata": {
    "collapsed": true
   },
   "outputs": [],
   "source": [
    "import pandas as pd                              # 表格和数据处理\n",
    "import matplotlib.pyplot as plt                  # 绘图\n",
    "import seaborn as sns                            # 更多绘图功能\n",
    "import pandas_datareader.data as webdata\n",
    "\n",
    "from itertools import product                    # 一些有用的函数\n",
    "from tqdm import tqdm_notebook\n",
    "\n",
    "import datetime                                  # 日期函数\n",
    "\n",
    "import warnings                                  # 勿扰模式\n",
    "warnings.filterwarnings('ignore')\n",
    "\n",
    "%matplotlib inline"
   ]
  },
  {
   "cell_type": "code",
   "execution_count": 3,
   "metadata": {
    "collapsed": false
   },
   "outputs": [],
   "source": [
    "now = datetime.date.today()\n",
    "start = now - datetime.timedelta(days=days_back)\n",
    "# df = data.DataReader(stock, \"iex\", start=start, end=end)\n",
    "df = webdata.get_data_yahoo(stock, start=start, end=now)['Adj Close']"
   ]
  },
  {
   "cell_type": "code",
   "execution_count": 4,
   "metadata": {
    "collapsed": false
   },
   "outputs": [
    {
     "data": {
      "text/plain": [
       "Date\n",
       "2018-07-23    107.556091\n",
       "2018-07-24    107.247284\n",
       "2018-07-25    110.405128\n",
       "2018-07-26    109.199768\n",
       "2018-07-27    107.267204\n",
       "2018-07-30    104.966064\n",
       "2018-07-31    105.673340\n",
       "2018-08-01    105.872574\n",
       "2018-08-02    107.157623\n",
       "2018-08-03    107.625824\n",
       "2018-08-06    107.715477\n",
       "2018-08-07    108.462601\n",
       "2018-08-08    109.070267\n",
       "2018-08-09    109.249573\n",
       "2018-08-10    108.582146\n",
       "2018-08-13    107.795174\n",
       "2018-08-14    109.139999\n",
       "2018-08-15    107.660004\n",
       "2018-08-16    107.639999\n",
       "2018-08-17    107.580002\n",
       "2018-08-20    106.870003\n",
       "2018-08-21    105.980003\n",
       "2018-08-22    107.059998\n",
       "2018-08-23    107.559998\n",
       "2018-08-24    108.400002\n",
       "2018-08-27    109.599998\n",
       "2018-08-28    110.260002\n",
       "2018-08-29    112.019997\n",
       "2018-08-30    111.949997\n",
       "2018-08-31    112.330002\n",
       "                 ...    \n",
       "2018-09-18    113.209999\n",
       "2018-09-19    111.699997\n",
       "2018-09-20    113.570000\n",
       "2018-09-21    114.260002\n",
       "2018-09-24    114.669998\n",
       "2018-09-25    114.449997\n",
       "2018-09-26    113.980003\n",
       "2018-09-27    114.410004\n",
       "2018-09-28    114.370003\n",
       "2018-10-01    115.610001\n",
       "2018-10-02    115.150002\n",
       "2018-10-03    115.169998\n",
       "2018-10-04    112.790001\n",
       "2018-10-05    112.129997\n",
       "2018-10-08    110.849998\n",
       "2018-10-09    112.260002\n",
       "2018-10-10    106.160004\n",
       "2018-10-11    105.910004\n",
       "2018-10-12    109.570000\n",
       "2018-10-15    107.599998\n",
       "2018-10-16    111.000000\n",
       "2018-10-17    110.709999\n",
       "2018-10-18    108.500000\n",
       "2018-10-19    108.660004\n",
       "2018-10-22    109.629997\n",
       "2018-10-23    108.099998\n",
       "2018-10-24    102.320000\n",
       "2018-10-25    108.300003\n",
       "2018-10-26    106.959999\n",
       "2018-10-29    103.849998\n",
       "Name: Adj Close, Length: 70, dtype: float64"
      ]
     },
     "execution_count": 4,
     "metadata": {},
     "output_type": "execute_result"
    }
   ],
   "source": [
    "df"
   ]
  },
  {
   "cell_type": "code",
   "execution_count": 5,
   "metadata": {
    "collapsed": false
   },
   "outputs": [],
   "source": [
    "# 需要预测的5天日期\n",
    "d = [None] * 5\n",
    "j = 0\n",
    "\n",
    "for i in range(0,7):\n",
    "    if (now + datetime.timedelta(i)).weekday() < 5:\n",
    "        d[j] = str(now + datetime.timedelta(i))\n",
    "        j = j + 1"
   ]
  },
  {
   "cell_type": "code",
   "execution_count": 6,
   "metadata": {
    "collapsed": false
   },
   "outputs": [
    {
     "name": "stdout",
     "output_type": "stream",
     "text": [
      "108.7245326512023\n",
      "[110.01183779 108.42543137 104.06878564 109.07823834 112.03837011]\n"
     ]
    }
   ],
   "source": [
    "#时序数据上的线性模型\n",
    "data = pd.DataFrame(df.copy().astype(float))\n",
    "data.columns = [\"y\"]\n",
    "\n",
    "df = pd.DataFrame({'y':[0,0,0,0,0]},\n",
    "                   index = d)\n",
    "data = data.append(df)\n",
    "\n",
    "for i in range(6, 25):\n",
    "    data[\"lag_{}\".format(i)] = data.y.shift(i)\n",
    "\n",
    "from sklearn.linear_model import LinearRegression\n",
    "from sklearn.model_selection import cross_val_score\n",
    "\n",
    "y = data.dropna().y # 删除n/a的数据\n",
    "X = data.dropna().drop(['y'], axis=1)\n",
    "\n",
    "# 除去需要预测的5天\n",
    "train_index = int(len(X)) - 5\n",
    "X_train = X.iloc[:train_index]\n",
    "y_train = y.iloc[:train_index]\n",
    "\n",
    "# 机器学习\n",
    "lr = LinearRegression()\n",
    "lr.fit(X_train, y_train)\n",
    "prediction = lr.predict(X.tail(5))\n",
    "precentage = prediction.mean()\n",
    "print(prediction.mean())\n",
    "print(prediction)\n",
    "# plt.figure(figsize=(15, 7))\n",
    "# plt.plot(prediction, \"g\", label=\"prediction\", linewidth=2.0)\n"
   ]
  },
  {
   "cell_type": "code",
   "execution_count": 7,
   "metadata": {
    "collapsed": false
   },
   "outputs": [],
   "source": [
    "#储存数据到excel\n",
    "from openpyxl import load_workbook\n",
    "df = pd.DataFrame(prediction)\n",
    "df = df.values.T.tolist()\n",
    "stock_name = [str(stock)]\n",
    "wb = load_workbook('/Users/BartSu/Desktop/StockRS_Result.xlsx')\n",
    "ws = wb.worksheets[0]\n",
    "\n",
    "ws.append(stock_name)\n",
    "\n",
    "# Append 2 new Rows - Columns A - D\n",
    "for row_data in df:\n",
    "    # Append Row Values\n",
    "    ws.append(row_data)\n",
    "\n",
    "wb.save(\"/Users/BartSu/Desktop/StockRS_Result.xlsx\")"
   ]
  }
 ],
 "metadata": {
  "kernelspec": {
   "display_name": "Python 3",
   "language": "python",
   "name": "python3"
  },
  "language_info": {
   "codemirror_mode": {
    "name": "ipython",
    "version": 3
   },
   "file_extension": ".py",
   "mimetype": "text/x-python",
   "name": "python",
   "nbconvert_exporter": "python",
   "pygments_lexer": "ipython3",
   "version": "3.6.0"
  }
 },
 "nbformat": 4,
 "nbformat_minor": 2
}
