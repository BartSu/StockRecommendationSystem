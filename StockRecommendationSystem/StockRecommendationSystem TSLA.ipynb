{
 "cells": [
  {
   "cell_type": "code",
   "execution_count": 1,
   "metadata": {
    "collapsed": true
   },
   "outputs": [],
   "source": [
    "stock = 'TSLA'\n",
    "days_back = 100"
   ]
  },
  {
   "cell_type": "code",
   "execution_count": 2,
   "metadata": {
    "collapsed": true
   },
   "outputs": [],
   "source": [
    "import pandas as pd                              # 表格和数据处理\n",
    "import matplotlib.pyplot as plt                  # 绘图\n",
    "import seaborn as sns                            # 更多绘图功能\n",
    "import pandas_datareader.data as webdata\n",
    "\n",
    "from itertools import product                    # 一些有用的函数\n",
    "from tqdm import tqdm_notebook\n",
    "\n",
    "import datetime                                  # 日期函数\n",
    "\n",
    "import warnings                                  # 勿扰模式\n",
    "warnings.filterwarnings('ignore')\n",
    "\n",
    "%matplotlib inline"
   ]
  },
  {
   "cell_type": "code",
   "execution_count": 3,
   "metadata": {
    "collapsed": false
   },
   "outputs": [],
   "source": [
    "now = datetime.date.today()\n",
    "start = now - datetime.timedelta(days=days_back)\n",
    "# df = data.DataReader(stock, \"iex\", start=start, end=end)\n",
    "df = webdata.get_data_yahoo(stock, start=start, end=now)['Adj Close']"
   ]
  },
  {
   "cell_type": "code",
   "execution_count": 4,
   "metadata": {
    "collapsed": false
   },
   "outputs": [
    {
     "data": {
      "text/plain": [
       "Date\n",
       "2018-07-20    313.579987\n",
       "2018-07-23    303.200012\n",
       "2018-07-24    297.429993\n",
       "2018-07-25    308.739990\n",
       "2018-07-26    306.649994\n",
       "2018-07-27    297.179993\n",
       "2018-07-30    290.170013\n",
       "2018-07-31    298.140015\n",
       "2018-08-01    300.839996\n",
       "2018-08-02    349.540009\n",
       "2018-08-03    348.170013\n",
       "2018-08-06    341.989990\n",
       "2018-08-07    379.570007\n",
       "2018-08-08    370.339996\n",
       "2018-08-09    352.450012\n",
       "2018-08-10    355.489990\n",
       "2018-08-13    356.410004\n",
       "2018-08-14    347.640015\n",
       "2018-08-15    338.690002\n",
       "2018-08-16    335.450012\n",
       "2018-08-17    305.500000\n",
       "2018-08-20    308.440002\n",
       "2018-08-21    321.899994\n",
       "2018-08-22    321.640015\n",
       "2018-08-23    320.100006\n",
       "2018-08-24    322.820007\n",
       "2018-08-27    319.269989\n",
       "2018-08-28    311.859985\n",
       "2018-08-29    305.010010\n",
       "2018-08-30    303.149994\n",
       "                 ...    \n",
       "2018-09-17    294.839996\n",
       "2018-09-18    284.959991\n",
       "2018-09-19    299.019989\n",
       "2018-09-20    298.329987\n",
       "2018-09-21    299.100006\n",
       "2018-09-24    299.679993\n",
       "2018-09-25    300.989990\n",
       "2018-09-26    309.579987\n",
       "2018-09-27    307.519989\n",
       "2018-09-28    264.769989\n",
       "2018-10-01    310.700012\n",
       "2018-10-02    301.019989\n",
       "2018-10-03    294.799988\n",
       "2018-10-04    281.829987\n",
       "2018-10-05    261.950012\n",
       "2018-10-08    250.559998\n",
       "2018-10-09    262.799988\n",
       "2018-10-10    256.880005\n",
       "2018-10-11    252.229996\n",
       "2018-10-12    258.779999\n",
       "2018-10-15    259.589996\n",
       "2018-10-16    276.589996\n",
       "2018-10-17    271.779999\n",
       "2018-10-18    263.910004\n",
       "2018-10-19    260.000000\n",
       "2018-10-22    260.950012\n",
       "2018-10-23    294.140015\n",
       "2018-10-24    288.500000\n",
       "2018-10-25    314.859985\n",
       "2018-10-26    330.899994\n",
       "Name: Adj Close, Length: 70, dtype: float64"
      ]
     },
     "execution_count": 4,
     "metadata": {},
     "output_type": "execute_result"
    }
   ],
   "source": [
    "df"
   ]
  },
  {
   "cell_type": "code",
   "execution_count": 5,
   "metadata": {
    "collapsed": false
   },
   "outputs": [],
   "source": [
    "# 需要预测的5天日期\n",
    "d = [None] * 5\n",
    "j = 0\n",
    "\n",
    "for i in range(0,7):\n",
    "    if (now + datetime.timedelta(i)).weekday() < 5:\n",
    "        d[j] = str(now + datetime.timedelta(i))\n",
    "        j = j + 1"
   ]
  },
  {
   "cell_type": "code",
   "execution_count": 6,
   "metadata": {
    "collapsed": false
   },
   "outputs": [
    {
     "name": "stdout",
     "output_type": "stream",
     "text": [
      "275.5379485584971\n",
      "[243.71696557 257.33985023 267.13770844 288.59828557 320.89693299]\n"
     ]
    }
   ],
   "source": [
    "#时序数据上的线性模型\n",
    "data = pd.DataFrame(df.copy().astype(float))\n",
    "data.columns = [\"y\"]\n",
    "\n",
    "df = pd.DataFrame({'y':[0,0,0,0,0]},\n",
    "                   index = d)\n",
    "data = data.append(df)\n",
    "\n",
    "for i in range(6, 25):\n",
    "    data[\"lag_{}\".format(i)] = data.y.shift(i)\n",
    "\n",
    "from sklearn.linear_model import LinearRegression\n",
    "from sklearn.model_selection import cross_val_score\n",
    "\n",
    "y = data.dropna().y # 删除n/a的数据\n",
    "X = data.dropna().drop(['y'], axis=1)\n",
    "\n",
    "# 除去需要预测的5天\n",
    "train_index = int(len(X)) - 5\n",
    "X_train = X.iloc[:train_index]\n",
    "y_train = y.iloc[:train_index]\n",
    "\n",
    "# 机器学习\n",
    "lr = LinearRegression()\n",
    "lr.fit(X_train, y_train)\n",
    "prediction = lr.predict(X.tail(5))\n",
    "precentage = prediction.mean()\n",
    "print(prediction.mean())\n",
    "print(prediction)\n",
    "# plt.figure(figsize=(15, 7))\n",
    "# plt.plot(prediction, \"g\", label=\"prediction\", linewidth=2.0)\n"
   ]
  },
  {
   "cell_type": "code",
   "execution_count": 7,
   "metadata": {
    "collapsed": false
   },
   "outputs": [],
   "source": [
    "#储存数据到excel\n",
    "from openpyxl import load_workbook\n",
    "df = pd.DataFrame(prediction)\n",
    "df = df.values.T.tolist()\n",
    "stock_name = [str(stock)]\n",
    "wb = load_workbook('/Users/BartSu/Desktop/StockRS_Result.xlsx')\n",
    "ws = wb.worksheets[0]\n",
    "\n",
    "ws.append(stock_name)\n",
    "\n",
    "# Append 2 new Rows - Columns A - D\n",
    "for row_data in df:\n",
    "    # Append Row Values\n",
    "    ws.append(row_data)\n",
    "\n",
    "wb.save(\"/Users/BartSu/Desktop/StockRS_Result.xlsx\")"
   ]
  },
  {
   "cell_type": "code",
   "execution_count": 8,
   "metadata": {
    "collapsed": true
   },
   "outputs": [],
   "source": []
  }
 ],
 "metadata": {
  "kernelspec": {
   "display_name": "Python 3",
   "language": "python",
   "name": "python3"
  },
  "language_info": {
   "codemirror_mode": {
    "name": "ipython",
    "version": 3
   },
   "file_extension": ".py",
   "mimetype": "text/x-python",
   "name": "python",
   "nbconvert_exporter": "python",
   "pygments_lexer": "ipython3",
   "version": "3.6.0"
  }
 },
 "nbformat": 4,
 "nbformat_minor": 2
}
