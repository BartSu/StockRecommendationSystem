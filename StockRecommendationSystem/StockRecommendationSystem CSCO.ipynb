{
 "cells": [
  {
   "cell_type": "code",
   "execution_count": 1,
   "metadata": {
    "collapsed": true
   },
   "outputs": [],
   "source": [
    "stock = 'CSCO'\n",
    "days_back = 100"
   ]
  },
  {
   "cell_type": "code",
   "execution_count": 2,
   "metadata": {
    "collapsed": true
   },
   "outputs": [],
   "source": [
    "import pandas as pd                              # 表格和数据处理\n",
    "import matplotlib.pyplot as plt                  # 绘图\n",
    "import seaborn as sns                            # 更多绘图功能\n",
    "import pandas_datareader.data as webdata\n",
    "\n",
    "from itertools import product                    # 一些有用的函数\n",
    "from tqdm import tqdm_notebook\n",
    "\n",
    "import datetime                                  # 日期函数\n",
    "\n",
    "import warnings                                  # 勿扰模式\n",
    "warnings.filterwarnings('ignore')\n",
    "\n",
    "%matplotlib inline"
   ]
  },
  {
   "cell_type": "code",
   "execution_count": 3,
   "metadata": {
    "collapsed": false
   },
   "outputs": [],
   "source": [
    "now = datetime.date.today()\n",
    "start = now - datetime.timedelta(days=days_back)\n",
    "# df = data.DataReader(stock, \"iex\", start=start, end=end)\n",
    "df = webdata.get_data_yahoo(stock, start=start, end=now)['Adj Close']"
   ]
  },
  {
   "cell_type": "code",
   "execution_count": 4,
   "metadata": {
    "collapsed": false
   },
   "outputs": [
    {
     "data": {
      "text/plain": [
       "Date\n",
       "2018-07-23    41.777546\n",
       "2018-07-24    42.105328\n",
       "2018-07-25    42.870159\n",
       "2018-07-26    43.237671\n",
       "2018-07-27    42.284119\n",
       "2018-07-30    41.886803\n",
       "2018-07-31    42.006001\n",
       "2018-08-01    41.578888\n",
       "2018-08-02    42.244389\n",
       "2018-08-03    42.542374\n",
       "2018-08-06    43.009216\n",
       "2018-08-07    43.287338\n",
       "2018-08-08    43.545589\n",
       "2018-08-09    43.485992\n",
       "2018-08-10    43.485992\n",
       "2018-08-13    43.456196\n",
       "2018-08-14    43.704517\n",
       "2018-08-15    43.565456\n",
       "2018-08-16    44.856728\n",
       "2018-08-17    45.561958\n",
       "2018-08-20    45.909611\n",
       "2018-08-21    45.472561\n",
       "2018-08-22    45.681152\n",
       "2018-08-23    45.710953\n",
       "2018-08-24    46.008938\n",
       "2018-08-27    46.277122\n",
       "2018-08-28    46.634705\n",
       "2018-08-29    47.161144\n",
       "2018-08-30    46.833363\n",
       "2018-08-31    47.449200\n",
       "                ...    \n",
       "2018-09-18    47.141281\n",
       "2018-09-19    46.962490\n",
       "2018-09-20    47.409466\n",
       "2018-09-21    48.233894\n",
       "2018-09-24    48.114697\n",
       "2018-09-25    48.144501\n",
       "2018-09-26    48.084900\n",
       "2018-09-27    48.005440\n",
       "2018-09-28    48.323292\n",
       "2018-10-01    48.541809\n",
       "2018-10-02    48.680870\n",
       "2018-10-03    48.809998\n",
       "2018-10-04    48.380001\n",
       "2018-10-05    48.130001\n",
       "2018-10-08    47.520000\n",
       "2018-10-09    47.490002\n",
       "2018-10-10    45.630001\n",
       "2018-10-11    44.119999\n",
       "2018-10-12    45.709999\n",
       "2018-10-15    44.669998\n",
       "2018-10-16    45.820000\n",
       "2018-10-17    45.939999\n",
       "2018-10-18    45.459999\n",
       "2018-10-19    45.340000\n",
       "2018-10-22    45.759998\n",
       "2018-10-23    45.419998\n",
       "2018-10-24    44.070000\n",
       "2018-10-25    45.470001\n",
       "2018-10-26    44.250000\n",
       "2018-10-29    43.840000\n",
       "Name: Adj Close, Length: 70, dtype: float64"
      ]
     },
     "execution_count": 4,
     "metadata": {},
     "output_type": "execute_result"
    }
   ],
   "source": [
    "df"
   ]
  },
  {
   "cell_type": "code",
   "execution_count": 5,
   "metadata": {
    "collapsed": false
   },
   "outputs": [],
   "source": [
    "# 需要预测的5天日期\n",
    "d = [None] * 5\n",
    "j = 0\n",
    "\n",
    "for i in range(0,7):\n",
    "    if (now + datetime.timedelta(i)).weekday() < 5:\n",
    "        d[j] = str(now + datetime.timedelta(i))\n",
    "        j = j + 1"
   ]
  },
  {
   "cell_type": "code",
   "execution_count": 6,
   "metadata": {
    "collapsed": false
   },
   "outputs": [
    {
     "name": "stdout",
     "output_type": "stream",
     "text": [
      "47.62723310115166\n",
      "[49.49172378 48.34633195 46.41930714 47.93135982 45.94744281]\n"
     ]
    }
   ],
   "source": [
    "#时序数据上的线性模型\n",
    "data = pd.DataFrame(df.copy().astype(float))\n",
    "data.columns = [\"y\"]\n",
    "\n",
    "df = pd.DataFrame({'y':[0,0,0,0,0]},\n",
    "                   index = d)\n",
    "data = data.append(df)\n",
    "\n",
    "for i in range(6, 25):\n",
    "    data[\"lag_{}\".format(i)] = data.y.shift(i)\n",
    "\n",
    "from sklearn.linear_model import LinearRegression\n",
    "from sklearn.model_selection import cross_val_score\n",
    "\n",
    "y = data.dropna().y # 删除n/a的数据\n",
    "X = data.dropna().drop(['y'], axis=1)\n",
    "\n",
    "# 除去需要预测的5天\n",
    "train_index = int(len(X)) - 5\n",
    "X_train = X.iloc[:train_index]\n",
    "y_train = y.iloc[:train_index]\n",
    "\n",
    "# 机器学习\n",
    "lr = LinearRegression()\n",
    "lr.fit(X_train, y_train)\n",
    "prediction = lr.predict(X.tail(5))\n",
    "precentage = prediction.mean()\n",
    "print(prediction.mean())\n",
    "print(prediction)\n",
    "# plt.figure(figsize=(15, 7))\n",
    "# plt.plot(prediction, \"g\", label=\"prediction\", linewidth=2.0)\n"
   ]
  },
  {
   "cell_type": "code",
   "execution_count": 7,
   "metadata": {
    "collapsed": false
   },
   "outputs": [],
   "source": [
    "#储存数据到excel\n",
    "from openpyxl import load_workbook\n",
    "df = pd.DataFrame(prediction)\n",
    "df = df.values.T.tolist()\n",
    "stock_name = [str(stock)]\n",
    "wb = load_workbook('/Users/BartSu/Desktop/StockRS_Result.xlsx')\n",
    "ws = wb.worksheets[0]\n",
    "\n",
    "ws.append(stock_name)\n",
    "\n",
    "# Append 2 new Rows - Columns A - D\n",
    "for row_data in df:\n",
    "    # Append Row Values\n",
    "    ws.append(row_data)\n",
    "\n",
    "wb.save(\"/Users/BartSu/Desktop/StockRS_Result.xlsx\")"
   ]
  }
 ],
 "metadata": {
  "kernelspec": {
   "display_name": "Python 3",
   "language": "python",
   "name": "python3"
  },
  "language_info": {
   "codemirror_mode": {
    "name": "ipython",
    "version": 3
   },
   "file_extension": ".py",
   "mimetype": "text/x-python",
   "name": "python",
   "nbconvert_exporter": "python",
   "pygments_lexer": "ipython3",
   "version": "3.6.0"
  }
 },
 "nbformat": 4,
 "nbformat_minor": 2
}
