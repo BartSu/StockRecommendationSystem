{
 "cells": [
  {
   "cell_type": "code",
   "execution_count": 1,
   "metadata": {
    "collapsed": true
   },
   "outputs": [],
   "source": [
    "stock = 'NVDA'\n",
    "days_back = 100"
   ]
  },
  {
   "cell_type": "code",
   "execution_count": 2,
   "metadata": {
    "collapsed": true
   },
   "outputs": [],
   "source": [
    "import pandas as pd                              # 表格和数据处理\n",
    "import matplotlib.pyplot as plt                  # 绘图\n",
    "import seaborn as sns                            # 更多绘图功能\n",
    "import pandas_datareader.data as webdata\n",
    "\n",
    "from itertools import product                    # 一些有用的函数\n",
    "from tqdm import tqdm_notebook\n",
    "\n",
    "import datetime                                  # 日期函数\n",
    "\n",
    "import warnings                                  # 勿扰模式\n",
    "warnings.filterwarnings('ignore')\n",
    "\n",
    "%matplotlib inline"
   ]
  },
  {
   "cell_type": "code",
   "execution_count": 3,
   "metadata": {
    "collapsed": false
   },
   "outputs": [],
   "source": [
    "now = datetime.date.today()\n",
    "start = now - datetime.timedelta(days=days_back)\n",
    "# df = data.DataReader(stock, \"iex\", start=start, end=end)\n",
    "df = webdata.get_data_yahoo(stock, start=start, end=now)['Adj Close']"
   ]
  },
  {
   "cell_type": "code",
   "execution_count": 4,
   "metadata": {
    "collapsed": false
   },
   "outputs": [
    {
     "data": {
      "text/plain": [
       "Date\n",
       "2018-07-23    249.273651\n",
       "2018-07-24    248.574036\n",
       "2018-07-25    251.732300\n",
       "2018-07-26    254.700684\n",
       "2018-07-27    251.882233\n",
       "2018-07-30    243.996536\n",
       "2018-07-31    244.726135\n",
       "2018-08-01    246.335251\n",
       "2018-08-02    250.482986\n",
       "2018-08-03    251.962189\n",
       "2018-08-06    253.891129\n",
       "2018-08-07    256.809540\n",
       "2018-08-08    258.278748\n",
       "2018-08-09    256.319794\n",
       "2018-08-10    254.650696\n",
       "2018-08-13    255.979980\n",
       "2018-08-14    261.287079\n",
       "2018-08-15    258.938354\n",
       "2018-08-16    257.299255\n",
       "2018-08-17    244.686172\n",
       "2018-08-20    247.704498\n",
       "2018-08-21    253.181519\n",
       "2018-08-22    262.676331\n",
       "2018-08-23    266.694122\n",
       "2018-08-24    272.071167\n",
       "2018-08-27    275.749176\n",
       "2018-08-28    274.230011\n",
       "2018-08-29    278.489990\n",
       "2018-08-30    277.809998\n",
       "2018-08-31    280.679993\n",
       "                 ...    \n",
       "2018-09-18    271.019989\n",
       "2018-09-19    271.980011\n",
       "2018-09-20    266.279999\n",
       "2018-09-21    263.450012\n",
       "2018-09-24    265.700012\n",
       "2018-09-25    268.410004\n",
       "2018-09-26    266.920013\n",
       "2018-09-27    267.399994\n",
       "2018-09-28    281.019989\n",
       "2018-10-01    289.359985\n",
       "2018-10-02    286.480011\n",
       "2018-10-03    286.730011\n",
       "2018-10-04    279.290009\n",
       "2018-10-05    269.859985\n",
       "2018-10-08    265.769989\n",
       "2018-10-09    265.540009\n",
       "2018-10-10    245.690002\n",
       "2018-10-11    235.130005\n",
       "2018-10-12    246.539993\n",
       "2018-10-15    235.380005\n",
       "2018-10-16    245.830002\n",
       "2018-10-17    243.059998\n",
       "2018-10-18    239.529999\n",
       "2018-10-19    229.169998\n",
       "2018-10-22    231.220001\n",
       "2018-10-23    221.059998\n",
       "2018-10-24    199.410004\n",
       "2018-10-25    207.839996\n",
       "2018-10-26    198.289993\n",
       "2018-10-29    185.619995\n",
       "Name: Adj Close, Length: 70, dtype: float64"
      ]
     },
     "execution_count": 4,
     "metadata": {},
     "output_type": "execute_result"
    }
   ],
   "source": [
    "df"
   ]
  },
  {
   "cell_type": "code",
   "execution_count": 5,
   "metadata": {
    "collapsed": false
   },
   "outputs": [],
   "source": [
    "# 需要预测的5天日期\n",
    "d = [None] * 5\n",
    "j = 0\n",
    "\n",
    "for i in range(0,7):\n",
    "    if (now + datetime.timedelta(i)).weekday() < 5:\n",
    "        d[j] = str(now + datetime.timedelta(i))\n",
    "        j = j + 1"
   ]
  },
  {
   "cell_type": "code",
   "execution_count": 6,
   "metadata": {
    "collapsed": false
   },
   "outputs": [
    {
     "name": "stdout",
     "output_type": "stream",
     "text": [
      "227.2591496345526\n",
      "[232.93337517 225.68650018 218.45980105 219.88273461 239.33333717]\n"
     ]
    }
   ],
   "source": [
    "#时序数据上的线性模型\n",
    "data = pd.DataFrame(df.copy().astype(float))\n",
    "data.columns = [\"y\"]\n",
    "\n",
    "df = pd.DataFrame({'y':[0,0,0,0,0]},\n",
    "                   index = d)\n",
    "data = data.append(df)\n",
    "\n",
    "for i in range(6, 25):\n",
    "    data[\"lag_{}\".format(i)] = data.y.shift(i)\n",
    "\n",
    "from sklearn.linear_model import LinearRegression\n",
    "from sklearn.model_selection import cross_val_score\n",
    "\n",
    "y = data.dropna().y # 删除n/a的数据\n",
    "X = data.dropna().drop(['y'], axis=1)\n",
    "\n",
    "# 除去需要预测的5天\n",
    "train_index = int(len(X)) - 5\n",
    "X_train = X.iloc[:train_index]\n",
    "y_train = y.iloc[:train_index]\n",
    "\n",
    "# 机器学习\n",
    "lr = LinearRegression()\n",
    "lr.fit(X_train, y_train)\n",
    "prediction = lr.predict(X.tail(5))\n",
    "precentage = prediction.mean()\n",
    "print(prediction.mean())\n",
    "print(prediction)\n",
    "# plt.figure(figsize=(15, 7))\n",
    "# plt.plot(prediction, \"g\", label=\"prediction\", linewidth=2.0)\n"
   ]
  },
  {
   "cell_type": "code",
   "execution_count": 7,
   "metadata": {
    "collapsed": false
   },
   "outputs": [],
   "source": [
    "#储存数据到excel\n",
    "from openpyxl import load_workbook\n",
    "df = pd.DataFrame(prediction)\n",
    "df = df.values.T.tolist()\n",
    "stock_name = [str(stock)]\n",
    "wb = load_workbook('/Users/BartSu/Desktop/StockRS_Result.xlsx')\n",
    "ws = wb.worksheets[0]\n",
    "\n",
    "ws.append(stock_name)\n",
    "\n",
    "# Append 2 new Rows - Columns A - D\n",
    "for row_data in df:\n",
    "    # Append Row Values\n",
    "    ws.append(row_data)\n",
    "\n",
    "wb.save(\"/Users/BartSu/Desktop/StockRS_Result.xlsx\")"
   ]
  }
 ],
 "metadata": {
  "kernelspec": {
   "display_name": "Python 3",
   "language": "python",
   "name": "python3"
  },
  "language_info": {
   "codemirror_mode": {
    "name": "ipython",
    "version": 3
   },
   "file_extension": ".py",
   "mimetype": "text/x-python",
   "name": "python",
   "nbconvert_exporter": "python",
   "pygments_lexer": "ipython3",
   "version": "3.6.0"
  }
 },
 "nbformat": 4,
 "nbformat_minor": 2
}
