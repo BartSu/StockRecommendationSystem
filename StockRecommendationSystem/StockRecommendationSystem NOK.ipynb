{
 "cells": [
  {
   "cell_type": "code",
   "execution_count": 1,
   "metadata": {
    "collapsed": true
   },
   "outputs": [],
   "source": [
    "stock = 'NOK'\n",
    "days_back = 100"
   ]
  },
  {
   "cell_type": "code",
   "execution_count": 2,
   "metadata": {
    "collapsed": true
   },
   "outputs": [],
   "source": [
    "import pandas as pd                              # 表格和数据处理\n",
    "import matplotlib.pyplot as plt                  # 绘图\n",
    "import seaborn as sns                            # 更多绘图功能\n",
    "import pandas_datareader.data as webdata\n",
    "\n",
    "from itertools import product                    # 一些有用的函数\n",
    "from tqdm import tqdm_notebook\n",
    "\n",
    "import datetime                                  # 日期函数\n",
    "\n",
    "import warnings                                  # 勿扰模式\n",
    "warnings.filterwarnings('ignore')\n",
    "\n",
    "%matplotlib inline"
   ]
  },
  {
   "cell_type": "code",
   "execution_count": 3,
   "metadata": {
    "collapsed": false
   },
   "outputs": [],
   "source": [
    "now = datetime.date.today()\n",
    "start = now - datetime.timedelta(days=days_back)\n",
    "# df = data.DataReader(stock, \"iex\", start=start, end=end)\n",
    "df = webdata.get_data_yahoo(stock, start=start, end=now)['Adj Close']"
   ]
  },
  {
   "cell_type": "code",
   "execution_count": 4,
   "metadata": {
    "collapsed": false
   },
   "outputs": [
    {
     "data": {
      "text/plain": [
       "Date\n",
       "2018-07-23    5.94\n",
       "2018-07-24    5.90\n",
       "2018-07-25    5.98\n",
       "2018-07-26    5.55\n",
       "2018-07-27    5.40\n",
       "2018-07-30    5.50\n",
       "2018-07-31    5.40\n",
       "2018-08-01    5.43\n",
       "2018-08-02    5.37\n",
       "2018-08-03    5.36\n",
       "2018-08-06    5.32\n",
       "2018-08-07    5.39\n",
       "2018-08-08    5.39\n",
       "2018-08-09    5.36\n",
       "2018-08-10    5.22\n",
       "2018-08-13    5.19\n",
       "2018-08-14    5.20\n",
       "2018-08-15    5.09\n",
       "2018-08-16    5.15\n",
       "2018-08-17    5.23\n",
       "2018-08-20    5.25\n",
       "2018-08-21    5.36\n",
       "2018-08-22    5.41\n",
       "2018-08-23    5.43\n",
       "2018-08-24    5.58\n",
       "2018-08-27    5.71\n",
       "2018-08-28    5.73\n",
       "2018-08-29    5.71\n",
       "2018-08-30    5.62\n",
       "2018-08-31    5.55\n",
       "              ... \n",
       "2018-09-18    5.62\n",
       "2018-09-19    5.46\n",
       "2018-09-20    5.52\n",
       "2018-09-21    5.59\n",
       "2018-09-24    5.55\n",
       "2018-09-25    5.60\n",
       "2018-09-26    5.53\n",
       "2018-09-27    5.69\n",
       "2018-09-28    5.58\n",
       "2018-10-01    5.61\n",
       "2018-10-02    5.48\n",
       "2018-10-03    5.47\n",
       "2018-10-04    5.48\n",
       "2018-10-05    5.38\n",
       "2018-10-08    5.32\n",
       "2018-10-09    5.30\n",
       "2018-10-10    5.16\n",
       "2018-10-11    5.15\n",
       "2018-10-12    5.25\n",
       "2018-10-15    5.29\n",
       "2018-10-16    5.45\n",
       "2018-10-17    5.52\n",
       "2018-10-18    5.55\n",
       "2018-10-19    5.62\n",
       "2018-10-22    5.63\n",
       "2018-10-23    5.55\n",
       "2018-10-24    5.26\n",
       "2018-10-25    5.32\n",
       "2018-10-26    5.58\n",
       "2018-10-29    5.55\n",
       "Name: Adj Close, Length: 70, dtype: float64"
      ]
     },
     "execution_count": 4,
     "metadata": {},
     "output_type": "execute_result"
    }
   ],
   "source": [
    "df"
   ]
  },
  {
   "cell_type": "code",
   "execution_count": 5,
   "metadata": {
    "collapsed": false
   },
   "outputs": [],
   "source": [
    "# 需要预测的5天日期\n",
    "d = [None] * 5\n",
    "j = 0\n",
    "\n",
    "for i in range(0,7):\n",
    "    if (now + datetime.timedelta(i)).weekday() < 5:\n",
    "        d[j] = str(now + datetime.timedelta(i))\n",
    "        j = j + 1"
   ]
  },
  {
   "cell_type": "code",
   "execution_count": 6,
   "metadata": {
    "collapsed": false
   },
   "outputs": [
    {
     "name": "stdout",
     "output_type": "stream",
     "text": [
      "5.507579491319684\n",
      "[5.45560701 5.35715861 5.42156748 5.63335292 5.67021143]\n"
     ]
    }
   ],
   "source": [
    "#时序数据上的线性模型\n",
    "data = pd.DataFrame(df.copy().astype(float))\n",
    "data.columns = [\"y\"]\n",
    "\n",
    "df = pd.DataFrame({'y':[0,0,0,0,0]},\n",
    "                   index = d)\n",
    "data = data.append(df)\n",
    "\n",
    "for i in range(6, 25):\n",
    "    data[\"lag_{}\".format(i)] = data.y.shift(i)\n",
    "\n",
    "from sklearn.linear_model import LinearRegression\n",
    "from sklearn.model_selection import cross_val_score\n",
    "\n",
    "y = data.dropna().y # 删除n/a的数据\n",
    "X = data.dropna().drop(['y'], axis=1)\n",
    "\n",
    "# 除去需要预测的5天\n",
    "train_index = int(len(X)) - 5\n",
    "X_train = X.iloc[:train_index]\n",
    "y_train = y.iloc[:train_index]\n",
    "\n",
    "# 机器学习\n",
    "lr = LinearRegression()\n",
    "lr.fit(X_train, y_train)\n",
    "prediction = lr.predict(X.tail(5))\n",
    "precentage = prediction.mean()\n",
    "print(prediction.mean())\n",
    "print(prediction)\n",
    "# plt.figure(figsize=(15, 7))\n",
    "# plt.plot(prediction, \"g\", label=\"prediction\", linewidth=2.0)\n"
   ]
  },
  {
   "cell_type": "code",
   "execution_count": 7,
   "metadata": {
    "collapsed": false
   },
   "outputs": [],
   "source": [
    "#储存数据到excel\n",
    "from openpyxl import load_workbook\n",
    "df = pd.DataFrame(prediction)\n",
    "df = df.values.T.tolist()\n",
    "stock_name = [str(stock)]\n",
    "wb = load_workbook('/Users/BartSu/Desktop/StockRS_Result.xlsx')\n",
    "ws = wb.worksheets[0]\n",
    "\n",
    "ws.append(stock_name)\n",
    "\n",
    "# Append 2 new Rows - Columns A - D\n",
    "for row_data in df:\n",
    "    # Append Row Values\n",
    "    ws.append(row_data)\n",
    "\n",
    "wb.save(\"/Users/BartSu/Desktop/StockRS_Result.xlsx\")"
   ]
  }
 ],
 "metadata": {
  "kernelspec": {
   "display_name": "Python 3",
   "language": "python",
   "name": "python3"
  },
  "language_info": {
   "codemirror_mode": {
    "name": "ipython",
    "version": 3
   },
   "file_extension": ".py",
   "mimetype": "text/x-python",
   "name": "python",
   "nbconvert_exporter": "python",
   "pygments_lexer": "ipython3",
   "version": "3.6.0"
  }
 },
 "nbformat": 4,
 "nbformat_minor": 2
}
