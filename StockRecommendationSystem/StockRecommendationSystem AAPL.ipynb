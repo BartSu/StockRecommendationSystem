{
 "cells": [
  {
   "cell_type": "code",
   "execution_count": 1,
   "metadata": {
    "collapsed": true
   },
   "outputs": [],
   "source": [
    "stock = 'AAPL'\n",
    "days_back = 100"
   ]
  },
  {
   "cell_type": "code",
   "execution_count": 2,
   "metadata": {
    "collapsed": true
   },
   "outputs": [],
   "source": [
    "import pandas as pd                              # 表格和数据处理\n",
    "import matplotlib.pyplot as plt                  # 绘图\n",
    "import seaborn as sns                            # 更多绘图功能\n",
    "import pandas_datareader.data as webdata\n",
    "\n",
    "from itertools import product                    # 一些有用的函数\n",
    "from tqdm import tqdm_notebook\n",
    "\n",
    "import datetime                                  # 日期函数\n",
    "\n",
    "import warnings                                  # 勿扰模式\n",
    "warnings.filterwarnings('ignore')\n",
    "\n",
    "%matplotlib inline"
   ]
  },
  {
   "cell_type": "code",
   "execution_count": 3,
   "metadata": {
    "collapsed": false
   },
   "outputs": [],
   "source": [
    "now = datetime.date.today()\n",
    "start = now - datetime.timedelta(days=days_back)\n",
    "# df = data.DataReader(stock, \"iex\", start=start, end=end)\n",
    "df = webdata.get_data_yahoo(stock, start=start, end=now)['Adj Close']"
   ]
  },
  {
   "cell_type": "code",
   "execution_count": 4,
   "metadata": {
    "collapsed": false
   },
   "outputs": [
    {
     "data": {
      "text/plain": [
       "Date\n",
       "2018-07-20    190.770950\n",
       "2018-07-23    190.940353\n",
       "2018-07-24    192.325485\n",
       "2018-07-25    194.139145\n",
       "2018-07-26    193.531265\n",
       "2018-07-27    190.312546\n",
       "2018-07-30    189.246292\n",
       "2018-07-31    189.624954\n",
       "2018-08-01    200.795792\n",
       "2018-08-02    206.665207\n",
       "2018-08-03    207.263107\n",
       "2018-08-06    208.339340\n",
       "2018-08-07    206.386185\n",
       "2018-08-08    206.525696\n",
       "2018-08-09    208.149994\n",
       "2018-08-10    207.529999\n",
       "2018-08-13    208.869995\n",
       "2018-08-14    209.750000\n",
       "2018-08-15    210.240005\n",
       "2018-08-16    213.320007\n",
       "2018-08-17    217.580002\n",
       "2018-08-20    215.460007\n",
       "2018-08-21    215.039993\n",
       "2018-08-22    215.050003\n",
       "2018-08-23    215.490005\n",
       "2018-08-24    216.160004\n",
       "2018-08-27    217.940002\n",
       "2018-08-28    219.699997\n",
       "2018-08-29    222.979996\n",
       "2018-08-30    225.029999\n",
       "                 ...    \n",
       "2018-09-17    217.880005\n",
       "2018-09-18    218.240005\n",
       "2018-09-19    218.369995\n",
       "2018-09-20    220.029999\n",
       "2018-09-21    217.660004\n",
       "2018-09-24    220.789993\n",
       "2018-09-25    222.190002\n",
       "2018-09-26    220.419998\n",
       "2018-09-27    224.949997\n",
       "2018-09-28    225.740005\n",
       "2018-10-01    227.259995\n",
       "2018-10-02    229.279999\n",
       "2018-10-03    232.070007\n",
       "2018-10-04    227.990005\n",
       "2018-10-05    224.289993\n",
       "2018-10-08    223.770004\n",
       "2018-10-09    226.869995\n",
       "2018-10-10    216.360001\n",
       "2018-10-11    214.449997\n",
       "2018-10-12    222.110001\n",
       "2018-10-15    217.360001\n",
       "2018-10-16    222.149994\n",
       "2018-10-17    221.190002\n",
       "2018-10-18    216.020004\n",
       "2018-10-19    219.309998\n",
       "2018-10-22    220.649994\n",
       "2018-10-23    222.729996\n",
       "2018-10-24    215.089996\n",
       "2018-10-25    219.800003\n",
       "2018-10-26    216.300003\n",
       "Name: Adj Close, Length: 70, dtype: float64"
      ]
     },
     "execution_count": 4,
     "metadata": {},
     "output_type": "execute_result"
    }
   ],
   "source": [
    "df"
   ]
  },
  {
   "cell_type": "code",
   "execution_count": 5,
   "metadata": {
    "collapsed": false
   },
   "outputs": [],
   "source": [
    "# 需要预测的5天日期\n",
    "d = [None] * 5\n",
    "j = 0\n",
    "\n",
    "for i in range(0,7):\n",
    "    if (now + datetime.timedelta(i)).weekday() < 5:\n",
    "        d[j] = str(now + datetime.timedelta(i))\n",
    "        j = j + 1"
   ]
  },
  {
   "cell_type": "code",
   "execution_count": 6,
   "metadata": {
    "collapsed": false
   },
   "outputs": [
    {
     "name": "stdout",
     "output_type": "stream",
     "text": [
      "228.40285006552708\n",
      "[232.45812349 227.74305803 223.40490637 229.07408759 229.33407484]\n"
     ]
    }
   ],
   "source": [
    "#时序数据上的线性模型\n",
    "data = pd.DataFrame(df.copy().astype(float))\n",
    "data.columns = [\"y\"]\n",
    "\n",
    "df = pd.DataFrame({'y':[0,0,0,0,0]},\n",
    "                   index = d)\n",
    "data = data.append(df)\n",
    "\n",
    "for i in range(6, 25):\n",
    "    data[\"lag_{}\".format(i)] = data.y.shift(i)\n",
    "\n",
    "from sklearn.linear_model import LinearRegression\n",
    "from sklearn.model_selection import cross_val_score\n",
    "\n",
    "y = data.dropna().y # 删除n/a的数据\n",
    "X = data.dropna().drop(['y'], axis=1)\n",
    "\n",
    "# 除去需要预测的5天\n",
    "train_index = int(len(X)) - 5\n",
    "X_train = X.iloc[:train_index]\n",
    "y_train = y.iloc[:train_index]\n",
    "\n",
    "# 机器学习\n",
    "lr = LinearRegression()\n",
    "lr.fit(X_train, y_train)\n",
    "prediction = lr.predict(X.tail(5))\n",
    "precentage = prediction.mean()\n",
    "print(prediction.mean())\n",
    "print(prediction)\n",
    "# plt.figure(figsize=(15, 7))\n",
    "# plt.plot(prediction, \"g\", label=\"prediction\", linewidth=2.0)\n"
   ]
  },
  {
   "cell_type": "code",
   "execution_count": 7,
   "metadata": {
    "collapsed": false
   },
   "outputs": [],
   "source": [
    "#储存数据到excel\n",
    "from openpyxl import load_workbook\n",
    "df = pd.DataFrame(prediction)\n",
    "df = df.values.T.tolist()\n",
    "stock_name = [str(stock)]\n",
    "wb = load_workbook('/Users/BartSu/Desktop/StockRS_Result.xlsx')\n",
    "ws = wb.worksheets[0]\n",
    "\n",
    "ws.append(stock_name)\n",
    "\n",
    "# Append 2 new Rows - Columns A - D\n",
    "for row_data in df:\n",
    "    # Append Row Values\n",
    "    ws.append(row_data)\n",
    "\n",
    "wb.save(\"/Users/BartSu/Desktop/StockRS_Result.xlsx\")"
   ]
  },
  {
   "cell_type": "code",
   "execution_count": 8,
   "metadata": {
    "collapsed": true
   },
   "outputs": [],
   "source": []
  }
 ],
 "metadata": {
  "kernelspec": {
   "display_name": "Python 3",
   "language": "python",
   "name": "python3"
  },
  "language_info": {
   "codemirror_mode": {
    "name": "ipython",
    "version": 3
   },
   "file_extension": ".py",
   "mimetype": "text/x-python",
   "name": "python",
   "nbconvert_exporter": "python",
   "pygments_lexer": "ipython3",
   "version": "3.6.0"
  }
 },
 "nbformat": 4,
 "nbformat_minor": 2
}
